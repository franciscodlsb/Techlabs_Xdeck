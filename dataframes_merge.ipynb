{
 "cells": [
  {
   "cell_type": "code",
   "execution_count": 4,
   "metadata": {},
   "outputs": [],
   "source": [
    "#importing packages\r\n",
    "\r\n",
    "import pandas as pd\r\n",
    "import seaborn as sns\r\n",
    "import matplotlib.pyplot as plt\r\n",
    "import numpy as np\r\n"
   ]
  },
  {
   "cell_type": "code",
   "execution_count": 5,
   "metadata": {},
   "outputs": [
    {
     "name": "stdout",
     "output_type": "stream",
     "text": [
      "Note: you may need to restart the kernel to use updated packages.\n"
     ]
    },
    {
     "name": "stderr",
     "output_type": "stream",
     "text": [
      "'C:\\Users\\Paola' is not recognized as an internal or external command,\n",
      "operable program or batch file.\n"
     ]
    }
   ],
   "source": [
    "pip install geopandas\r\n"
   ]
  },
  {
   "cell_type": "code",
   "execution_count": 6,
   "metadata": {},
   "outputs": [],
   "source": [
<<<<<<< Updated upstream
    "startups = pd.read_csv('deutsche_startups.csv')\r\n",
    "startbase = pd.read_csv(r'C:\\Users\\Paola Loreto\\Documents\\startbase.txt')\r\n"
=======
    "startups = pd.read_csv('Deutsche_Startups/deutsche_startups.csv')\n",
    "startbase = pd.read_csv('Startbase/startbase.csv')\n"
>>>>>>> Stashed changes
   ]
  },
  {
   "cell_type": "code",
   "execution_count": null,
   "metadata": {},
   "outputs": [],
   "source": [
    "startbase.head()"
   ]
  },
  {
   "cell_type": "code",
   "execution_count": 8,
   "metadata": {},
   "outputs": [],
   "source": [
    "startbase = startbase.drop(columns= ['Logo', 'Teaser', 'Company Stage', 'Customer Focus', 'Team Size', 'Handelsregister', 'Business Model', 'Legal Entity', 'About'])"
   ]
  },
  {
   "cell_type": "code",
   "execution_count": null,
   "metadata": {},
   "outputs": [],
   "source": [
    "#Changing startbase columns and adapting to startups\r\n",
    "startbase = startbase[['Name', 'Official Website', 'Members', 'Founding Year', 'Headquarter', 'Sector', 'On Social Media']]\r\n",
    "startbase.columns = ['Company_name', 'URL', 'company_head', 'founded_year', 'location', 'model', 'contact']\r\n",
    "startbase.head()"
   ]
  },
  {
   "cell_type": "code",
   "execution_count": 10,
   "metadata": {},
   "outputs": [],
   "source": [
    "#Concatenating both df\r\n",
    "all_startups = pd.concat([startups,startbase])"
   ]
  },
  {
   "cell_type": "code",
   "execution_count": 11,
   "metadata": {},
   "outputs": [],
   "source": [
    "#ID startups without location \r\n",
    "all_startups.describe()\r\n",
    "no_location = pd.isnull(all_startups['location'])\r\n",
    "x = np.where(no_location)[0] \r\n",
    "x = np.nan "
   ]
  },
  {
   "cell_type": "code",
   "execution_count": 12,
   "metadata": {},
   "outputs": [],
   "source": [
    "#Cleaning duplicates and symbols\r\n",
    "clean_startups = all_startups.drop_duplicates(subset = 'Company_name')\r\n",
    "clean_startups.replace(['NaN','', ' ', '{}','[]'], None)\r\n",
    "clean_startups.describe()\r\n",
    "list_startups = clean_startups.to_csv(r'C:\\Users\\Paola Loreto\\Documents\\DOCUMENTS\\Tech_Labs\\list_startups.csv', index =False)"
   ]
  },
  {
   "cell_type": "code",
   "execution_count": 13,
   "metadata": {},
   "outputs": [],
   "source": [
    "startups = pd.read_csv(r'C:\\Users\\Paola Loreto\\Documents\\DOCUMENTS\\Tech_Labs\\list_startups.csv')"
   ]
  },
  {
   "cell_type": "code",
   "execution_count": 14,
   "metadata": {},
   "outputs": [],
   "source": [
    "#cleaing location columns to only have the city name\r\n",
    "locations = startups['location']\r\n",
    "location = [str(x) for x in locations]\r\n",
    "startups['location'] = location\r\n",
    "startups['location'] = startups['location'].str.replace(', DE', '')"
   ]
  },
  {
   "cell_type": "code",
   "execution_count": 15,
   "metadata": {},
   "outputs": [],
   "source": [
    "#getting rid of year values that do not fit the criteria\r\n",
    "year = startups['founded_year']\r\n",
    "year = year.replace(['2006 / 2001', '1996 / 2007', '2004 / 2008', '2001 / 2007', ], 'nan')\r\n",
    "year = year.replace('2005 (als Hitflip Media Trading GmbH)', '2005')\r\n",
    "year = year.replace(['2007 (Spin', '2006/2008'], '2007')\r\n",
    "digits = year.str.len()\r\n",
    "year.loc[digits < 4] =np.nan\r\n",
    "year = [float(x) for x in year]\r\n",
    "years = list(set(year))\r\n",
    "startups['founded_year'] = year"
   ]
  },
  {
   "cell_type": "code",
   "execution_count": null,
   "metadata": {},
   "outputs": [],
   "source": [
    "startups.head()"
   ]
  },
  {
   "cell_type": "code",
   "execution_count": 38,
   "metadata": {},
   "outputs": [
    {
     "data": {
      "text/plain": "508"
     },
     "execution_count": 38,
     "metadata": {},
     "output_type": "execute_result"
    },
    {
     "data": {
      "image/png": "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\n",
      "image/svg+xml": "<?xml version=\"1.0\" encoding=\"utf-8\" standalone=\"no\"?>\r\n<!DOCTYPE svg PUBLIC \"-//W3C//DTD SVG 1.1//EN\"\r\n  \"http://www.w3.org/Graphics/SVG/1.1/DTD/svg11.dtd\">\r\n<!-- Created with matplotlib (https://matplotlib.org/) -->\r\n<svg height=\"248.79625pt\" version=\"1.1\" viewBox=\"0 0 381.65 248.79625\" width=\"381.65pt\" xmlns=\"http://www.w3.org/2000/svg\" xmlns:xlink=\"http://www.w3.org/1999/xlink\">\r\n <defs>\r\n  <style type=\"text/css\">\r\n*{stroke-linecap:butt;stroke-linejoin:round;}\r\n  </style>\r\n </defs>\r\n <g id=\"figure_1\">\r\n  <g id=\"patch_1\">\r\n   <path d=\"M -0 248.79625 \r\nL 381.65 248.79625 \r\nL 381.65 0 \r\nL -0 0 \r\nz\r\n\" style=\"fill:none;\"/>\r\n  </g>\r\n  <g id=\"axes_1\">\r\n   <g id=\"patch_2\">\r\n    <path d=\"M 39.65 224.64 \r\nL 374.45 224.64 \r\nL 374.45 7.2 \r\nL 39.65 7.2 \r\nz\r\n\" style=\"fill:#ffffff;\"/>\r\n   </g>\r\n   <g id=\"patch_3\">\r\n    <path clip-path=\"url(#p3ff268afe5)\" d=\"M 73.13 88.245818 \r\nL 340.97 88.245818 \r\nL 340.97 40.804364 \r\nL 73.13 40.804364 \r\nL 73.13 88.245818 \r\nz\r\n\" style=\"fill:#3274a1;stroke:#3f3f3f;stroke-linejoin:miter;stroke-width:1.5;\"/>\r\n   </g>\r\n   <g id=\"matplotlib.axis_1\">\r\n    <g id=\"xtick_1\">\r\n     <g id=\"line2d_1\">\r\n      <defs>\r\n       <path d=\"M 0 0 \r\nL 0 3.5 \r\n\" id=\"m97be761059\" style=\"stroke:#000000;stroke-width:0.8;\"/>\r\n      </defs>\r\n      <g>\r\n       <use style=\"stroke:#000000;stroke-width:0.8;\" x=\"207.05\" xlink:href=\"#m97be761059\" y=\"224.64\"/>\r\n      </g>\r\n     </g>\r\n     <g id=\"text_1\">\r\n      <!-- founded_year -->\r\n      <defs>\r\n       <path d=\"M 37.109375 75.984375 \r\nL 37.109375 68.5 \r\nL 28.515625 68.5 \r\nQ 23.6875 68.5 21.796875 66.546875 \r\nQ 19.921875 64.59375 19.921875 59.515625 \r\nL 19.921875 54.6875 \r\nL 34.71875 54.6875 \r\nL 34.71875 47.703125 \r\nL 19.921875 47.703125 \r\nL 19.921875 0 \r\nL 10.890625 0 \r\nL 10.890625 47.703125 \r\nL 2.296875 47.703125 \r\nL 2.296875 54.6875 \r\nL 10.890625 54.6875 \r\nL 10.890625 58.5 \r\nQ 10.890625 67.625 15.140625 71.796875 \r\nQ 19.390625 75.984375 28.609375 75.984375 \r\nz\r\n\" id=\"DejaVuSans-102\"/>\r\n       <path d=\"M 30.609375 48.390625 \r\nQ 23.390625 48.390625 19.1875 42.75 \r\nQ 14.984375 37.109375 14.984375 27.296875 \r\nQ 14.984375 17.484375 19.15625 11.84375 \r\nQ 23.34375 6.203125 30.609375 6.203125 \r\nQ 37.796875 6.203125 41.984375 11.859375 \r\nQ 46.1875 17.53125 46.1875 27.296875 \r\nQ 46.1875 37.015625 41.984375 42.703125 \r\nQ 37.796875 48.390625 30.609375 48.390625 \r\nz\r\nM 30.609375 56 \r\nQ 42.328125 56 49.015625 48.375 \r\nQ 55.71875 40.765625 55.71875 27.296875 \r\nQ 55.71875 13.875 49.015625 6.21875 \r\nQ 42.328125 -1.421875 30.609375 -1.421875 \r\nQ 18.84375 -1.421875 12.171875 6.21875 \r\nQ 5.515625 13.875 5.515625 27.296875 \r\nQ 5.515625 40.765625 12.171875 48.375 \r\nQ 18.84375 56 30.609375 56 \r\nz\r\n\" id=\"DejaVuSans-111\"/>\r\n       <path d=\"M 8.5 21.578125 \r\nL 8.5 54.6875 \r\nL 17.484375 54.6875 \r\nL 17.484375 21.921875 \r\nQ 17.484375 14.15625 20.5 10.265625 \r\nQ 23.53125 6.390625 29.59375 6.390625 \r\nQ 36.859375 6.390625 41.078125 11.03125 \r\nQ 45.3125 15.671875 45.3125 23.6875 \r\nL 45.3125 54.6875 \r\nL 54.296875 54.6875 \r\nL 54.296875 0 \r\nL 45.3125 0 \r\nL 45.3125 8.40625 \r\nQ 42.046875 3.421875 37.71875 1 \r\nQ 33.40625 -1.421875 27.6875 -1.421875 \r\nQ 18.265625 -1.421875 13.375 4.4375 \r\nQ 8.5 10.296875 8.5 21.578125 \r\nz\r\nM 31.109375 56 \r\nz\r\n\" id=\"DejaVuSans-117\"/>\r\n       <path d=\"M 54.890625 33.015625 \r\nL 54.890625 0 \r\nL 45.90625 0 \r\nL 45.90625 32.71875 \r\nQ 45.90625 40.484375 42.875 44.328125 \r\nQ 39.84375 48.1875 33.796875 48.1875 \r\nQ 26.515625 48.1875 22.3125 43.546875 \r\nQ 18.109375 38.921875 18.109375 30.90625 \r\nL 18.109375 0 \r\nL 9.078125 0 \r\nL 9.078125 54.6875 \r\nL 18.109375 54.6875 \r\nL 18.109375 46.1875 \r\nQ 21.34375 51.125 25.703125 53.5625 \r\nQ 30.078125 56 35.796875 56 \r\nQ 45.21875 56 50.046875 50.171875 \r\nQ 54.890625 44.34375 54.890625 33.015625 \r\nz\r\n\" id=\"DejaVuSans-110\"/>\r\n       <path d=\"M 45.40625 46.390625 \r\nL 45.40625 75.984375 \r\nL 54.390625 75.984375 \r\nL 54.390625 0 \r\nL 45.40625 0 \r\nL 45.40625 8.203125 \r\nQ 42.578125 3.328125 38.25 0.953125 \r\nQ 33.9375 -1.421875 27.875 -1.421875 \r\nQ 17.96875 -1.421875 11.734375 6.484375 \r\nQ 5.515625 14.40625 5.515625 27.296875 \r\nQ 5.515625 40.1875 11.734375 48.09375 \r\nQ 17.96875 56 27.875 56 \r\nQ 33.9375 56 38.25 53.625 \r\nQ 42.578125 51.265625 45.40625 46.390625 \r\nz\r\nM 14.796875 27.296875 \r\nQ 14.796875 17.390625 18.875 11.75 \r\nQ 22.953125 6.109375 30.078125 6.109375 \r\nQ 37.203125 6.109375 41.296875 11.75 \r\nQ 45.40625 17.390625 45.40625 27.296875 \r\nQ 45.40625 37.203125 41.296875 42.84375 \r\nQ 37.203125 48.484375 30.078125 48.484375 \r\nQ 22.953125 48.484375 18.875 42.84375 \r\nQ 14.796875 37.203125 14.796875 27.296875 \r\nz\r\n\" id=\"DejaVuSans-100\"/>\r\n       <path d=\"M 56.203125 29.59375 \r\nL 56.203125 25.203125 \r\nL 14.890625 25.203125 \r\nQ 15.484375 15.921875 20.484375 11.0625 \r\nQ 25.484375 6.203125 34.421875 6.203125 \r\nQ 39.59375 6.203125 44.453125 7.46875 \r\nQ 49.3125 8.734375 54.109375 11.28125 \r\nL 54.109375 2.78125 \r\nQ 49.265625 0.734375 44.1875 -0.34375 \r\nQ 39.109375 -1.421875 33.890625 -1.421875 \r\nQ 20.796875 -1.421875 13.15625 6.1875 \r\nQ 5.515625 13.8125 5.515625 26.8125 \r\nQ 5.515625 40.234375 12.765625 48.109375 \r\nQ 20.015625 56 32.328125 56 \r\nQ 43.359375 56 49.78125 48.890625 \r\nQ 56.203125 41.796875 56.203125 29.59375 \r\nz\r\nM 47.21875 32.234375 \r\nQ 47.125 39.59375 43.09375 43.984375 \r\nQ 39.0625 48.390625 32.421875 48.390625 \r\nQ 24.90625 48.390625 20.390625 44.140625 \r\nQ 15.875 39.890625 15.1875 32.171875 \r\nz\r\n\" id=\"DejaVuSans-101\"/>\r\n       <path d=\"M 50.984375 -16.609375 \r\nL 50.984375 -23.578125 \r\nL -0.984375 -23.578125 \r\nL -0.984375 -16.609375 \r\nz\r\n\" id=\"DejaVuSans-95\"/>\r\n       <path d=\"M 32.171875 -5.078125 \r\nQ 28.375 -14.84375 24.75 -17.8125 \r\nQ 21.140625 -20.796875 15.09375 -20.796875 \r\nL 7.90625 -20.796875 \r\nL 7.90625 -13.28125 \r\nL 13.1875 -13.28125 \r\nQ 16.890625 -13.28125 18.9375 -11.515625 \r\nQ 21 -9.765625 23.484375 -3.21875 \r\nL 25.09375 0.875 \r\nL 2.984375 54.6875 \r\nL 12.5 54.6875 \r\nL 29.59375 11.921875 \r\nL 46.6875 54.6875 \r\nL 56.203125 54.6875 \r\nz\r\n\" id=\"DejaVuSans-121\"/>\r\n       <path d=\"M 34.28125 27.484375 \r\nQ 23.390625 27.484375 19.1875 25 \r\nQ 14.984375 22.515625 14.984375 16.5 \r\nQ 14.984375 11.71875 18.140625 8.90625 \r\nQ 21.296875 6.109375 26.703125 6.109375 \r\nQ 34.1875 6.109375 38.703125 11.40625 \r\nQ 43.21875 16.703125 43.21875 25.484375 \r\nL 43.21875 27.484375 \r\nz\r\nM 52.203125 31.203125 \r\nL 52.203125 0 \r\nL 43.21875 0 \r\nL 43.21875 8.296875 \r\nQ 40.140625 3.328125 35.546875 0.953125 \r\nQ 30.953125 -1.421875 24.3125 -1.421875 \r\nQ 15.921875 -1.421875 10.953125 3.296875 \r\nQ 6 8.015625 6 15.921875 \r\nQ 6 25.140625 12.171875 29.828125 \r\nQ 18.359375 34.515625 30.609375 34.515625 \r\nL 43.21875 34.515625 \r\nL 43.21875 35.40625 \r\nQ 43.21875 41.609375 39.140625 45 \r\nQ 35.0625 48.390625 27.6875 48.390625 \r\nQ 23 48.390625 18.546875 47.265625 \r\nQ 14.109375 46.140625 10.015625 43.890625 \r\nL 10.015625 52.203125 \r\nQ 14.9375 54.109375 19.578125 55.046875 \r\nQ 24.21875 56 28.609375 56 \r\nQ 40.484375 56 46.34375 49.84375 \r\nQ 52.203125 43.703125 52.203125 31.203125 \r\nz\r\n\" id=\"DejaVuSans-97\"/>\r\n       <path d=\"M 41.109375 46.296875 \r\nQ 39.59375 47.171875 37.8125 47.578125 \r\nQ 36.03125 48 33.890625 48 \r\nQ 26.265625 48 22.1875 43.046875 \r\nQ 18.109375 38.09375 18.109375 28.8125 \r\nL 18.109375 0 \r\nL 9.078125 0 \r\nL 9.078125 54.6875 \r\nL 18.109375 54.6875 \r\nL 18.109375 46.1875 \r\nQ 20.953125 51.171875 25.484375 53.578125 \r\nQ 30.03125 56 36.53125 56 \r\nQ 37.453125 56 38.578125 55.875 \r\nQ 39.703125 55.765625 41.0625 55.515625 \r\nz\r\n\" id=\"DejaVuSans-114\"/>\r\n      </defs>\r\n      <g transform=\"translate(172.8125 239.238438)scale(0.1 -0.1)\">\r\n       <use xlink:href=\"#DejaVuSans-102\"/>\r\n       <use x=\"35.205078\" xlink:href=\"#DejaVuSans-111\"/>\r\n       <use x=\"96.386719\" xlink:href=\"#DejaVuSans-117\"/>\r\n       <use x=\"159.765625\" xlink:href=\"#DejaVuSans-110\"/>\r\n       <use x=\"223.144531\" xlink:href=\"#DejaVuSans-100\"/>\r\n       <use x=\"286.621094\" xlink:href=\"#DejaVuSans-101\"/>\r\n       <use x=\"348.144531\" xlink:href=\"#DejaVuSans-100\"/>\r\n       <use x=\"411.621094\" xlink:href=\"#DejaVuSans-95\"/>\r\n       <use x=\"461.621094\" xlink:href=\"#DejaVuSans-121\"/>\r\n       <use x=\"520.800781\" xlink:href=\"#DejaVuSans-101\"/>\r\n       <use x=\"582.324219\" xlink:href=\"#DejaVuSans-97\"/>\r\n       <use x=\"643.603516\" xlink:href=\"#DejaVuSans-114\"/>\r\n      </g>\r\n     </g>\r\n    </g>\r\n   </g>\r\n   <g id=\"matplotlib.axis_2\">\r\n    <g id=\"ytick_1\">\r\n     <g id=\"line2d_2\">\r\n      <defs>\r\n       <path d=\"M 0 0 \r\nL -3.5 0 \r\n\" id=\"m2cb9c700cb\" style=\"stroke:#000000;stroke-width:0.8;\"/>\r\n      </defs>\r\n      <g>\r\n       <use style=\"stroke:#000000;stroke-width:0.8;\" x=\"39.65\" xlink:href=\"#m2cb9c700cb\" y=\"222.663273\"/>\r\n      </g>\r\n     </g>\r\n     <g id=\"text_2\">\r\n      <!-- 1995 -->\r\n      <defs>\r\n       <path d=\"M 12.40625 8.296875 \r\nL 28.515625 8.296875 \r\nL 28.515625 63.921875 \r\nL 10.984375 60.40625 \r\nL 10.984375 69.390625 \r\nL 28.421875 72.90625 \r\nL 38.28125 72.90625 \r\nL 38.28125 8.296875 \r\nL 54.390625 8.296875 \r\nL 54.390625 0 \r\nL 12.40625 0 \r\nz\r\n\" id=\"DejaVuSans-49\"/>\r\n       <path d=\"M 10.984375 1.515625 \r\nL 10.984375 10.5 \r\nQ 14.703125 8.734375 18.5 7.8125 \r\nQ 22.3125 6.890625 25.984375 6.890625 \r\nQ 35.75 6.890625 40.890625 13.453125 \r\nQ 46.046875 20.015625 46.78125 33.40625 \r\nQ 43.953125 29.203125 39.59375 26.953125 \r\nQ 35.25 24.703125 29.984375 24.703125 \r\nQ 19.046875 24.703125 12.671875 31.3125 \r\nQ 6.296875 37.9375 6.296875 49.421875 \r\nQ 6.296875 60.640625 12.9375 67.421875 \r\nQ 19.578125 74.21875 30.609375 74.21875 \r\nQ 43.265625 74.21875 49.921875 64.515625 \r\nQ 56.59375 54.828125 56.59375 36.375 \r\nQ 56.59375 19.140625 48.40625 8.859375 \r\nQ 40.234375 -1.421875 26.421875 -1.421875 \r\nQ 22.703125 -1.421875 18.890625 -0.6875 \r\nQ 15.09375 0.046875 10.984375 1.515625 \r\nz\r\nM 30.609375 32.421875 \r\nQ 37.25 32.421875 41.125 36.953125 \r\nQ 45.015625 41.5 45.015625 49.421875 \r\nQ 45.015625 57.28125 41.125 61.84375 \r\nQ 37.25 66.40625 30.609375 66.40625 \r\nQ 23.96875 66.40625 20.09375 61.84375 \r\nQ 16.21875 57.28125 16.21875 49.421875 \r\nQ 16.21875 41.5 20.09375 36.953125 \r\nQ 23.96875 32.421875 30.609375 32.421875 \r\nz\r\n\" id=\"DejaVuSans-57\"/>\r\n       <path d=\"M 10.796875 72.90625 \r\nL 49.515625 72.90625 \r\nL 49.515625 64.59375 \r\nL 19.828125 64.59375 \r\nL 19.828125 46.734375 \r\nQ 21.96875 47.46875 24.109375 47.828125 \r\nQ 26.265625 48.1875 28.421875 48.1875 \r\nQ 40.625 48.1875 47.75 41.5 \r\nQ 54.890625 34.8125 54.890625 23.390625 \r\nQ 54.890625 11.625 47.5625 5.09375 \r\nQ 40.234375 -1.421875 26.90625 -1.421875 \r\nQ 22.3125 -1.421875 17.546875 -0.640625 \r\nQ 12.796875 0.140625 7.71875 1.703125 \r\nL 7.71875 11.625 \r\nQ 12.109375 9.234375 16.796875 8.0625 \r\nQ 21.484375 6.890625 26.703125 6.890625 \r\nQ 35.15625 6.890625 40.078125 11.328125 \r\nQ 45.015625 15.765625 45.015625 23.390625 \r\nQ 45.015625 31 40.078125 35.4375 \r\nQ 35.15625 39.890625 26.703125 39.890625 \r\nQ 22.75 39.890625 18.8125 39.015625 \r\nQ 14.890625 38.140625 10.796875 36.28125 \r\nz\r\n\" id=\"DejaVuSans-53\"/>\r\n      </defs>\r\n      <g transform=\"translate(7.2 226.462491)scale(0.1 -0.1)\">\r\n       <use xlink:href=\"#DejaVuSans-49\"/>\r\n       <use x=\"63.623047\" xlink:href=\"#DejaVuSans-57\"/>\r\n       <use x=\"127.246094\" xlink:href=\"#DejaVuSans-57\"/>\r\n       <use x=\"190.869141\" xlink:href=\"#DejaVuSans-53\"/>\r\n      </g>\r\n     </g>\r\n    </g>\r\n    <g id=\"ytick_2\">\r\n     <g id=\"line2d_3\">\r\n      <g>\r\n       <use style=\"stroke:#000000;stroke-width:0.8;\" x=\"39.65\" xlink:href=\"#m2cb9c700cb\" y=\"183.128727\"/>\r\n      </g>\r\n     </g>\r\n     <g id=\"text_3\">\r\n      <!-- 2000 -->\r\n      <defs>\r\n       <path d=\"M 19.1875 8.296875 \r\nL 53.609375 8.296875 \r\nL 53.609375 0 \r\nL 7.328125 0 \r\nL 7.328125 8.296875 \r\nQ 12.9375 14.109375 22.625 23.890625 \r\nQ 32.328125 33.6875 34.8125 36.53125 \r\nQ 39.546875 41.84375 41.421875 45.53125 \r\nQ 43.3125 49.21875 43.3125 52.78125 \r\nQ 43.3125 58.59375 39.234375 62.25 \r\nQ 35.15625 65.921875 28.609375 65.921875 \r\nQ 23.96875 65.921875 18.8125 64.3125 \r\nQ 13.671875 62.703125 7.8125 59.421875 \r\nL 7.8125 69.390625 \r\nQ 13.765625 71.78125 18.9375 73 \r\nQ 24.125 74.21875 28.421875 74.21875 \r\nQ 39.75 74.21875 46.484375 68.546875 \r\nQ 53.21875 62.890625 53.21875 53.421875 \r\nQ 53.21875 48.921875 51.53125 44.890625 \r\nQ 49.859375 40.875 45.40625 35.40625 \r\nQ 44.1875 33.984375 37.640625 27.21875 \r\nQ 31.109375 20.453125 19.1875 8.296875 \r\nz\r\n\" id=\"DejaVuSans-50\"/>\r\n       <path d=\"M 31.78125 66.40625 \r\nQ 24.171875 66.40625 20.328125 58.90625 \r\nQ 16.5 51.421875 16.5 36.375 \r\nQ 16.5 21.390625 20.328125 13.890625 \r\nQ 24.171875 6.390625 31.78125 6.390625 \r\nQ 39.453125 6.390625 43.28125 13.890625 \r\nQ 47.125 21.390625 47.125 36.375 \r\nQ 47.125 51.421875 43.28125 58.90625 \r\nQ 39.453125 66.40625 31.78125 66.40625 \r\nz\r\nM 31.78125 74.21875 \r\nQ 44.046875 74.21875 50.515625 64.515625 \r\nQ 56.984375 54.828125 56.984375 36.375 \r\nQ 56.984375 17.96875 50.515625 8.265625 \r\nQ 44.046875 -1.421875 31.78125 -1.421875 \r\nQ 19.53125 -1.421875 13.0625 8.265625 \r\nQ 6.59375 17.96875 6.59375 36.375 \r\nQ 6.59375 54.828125 13.0625 64.515625 \r\nQ 19.53125 74.21875 31.78125 74.21875 \r\nz\r\n\" id=\"DejaVuSans-48\"/>\r\n      </defs>\r\n      <g transform=\"translate(7.2 186.927946)scale(0.1 -0.1)\">\r\n       <use xlink:href=\"#DejaVuSans-50\"/>\r\n       <use x=\"63.623047\" xlink:href=\"#DejaVuSans-48\"/>\r\n       <use x=\"127.246094\" xlink:href=\"#DejaVuSans-48\"/>\r\n       <use x=\"190.869141\" xlink:href=\"#DejaVuSans-48\"/>\r\n      </g>\r\n     </g>\r\n    </g>\r\n    <g id=\"ytick_3\">\r\n     <g id=\"line2d_4\">\r\n      <g>\r\n       <use style=\"stroke:#000000;stroke-width:0.8;\" x=\"39.65\" xlink:href=\"#m2cb9c700cb\" y=\"143.594182\"/>\r\n      </g>\r\n     </g>\r\n     <g id=\"text_4\">\r\n      <!-- 2005 -->\r\n      <g transform=\"translate(7.2 147.393401)scale(0.1 -0.1)\">\r\n       <use xlink:href=\"#DejaVuSans-50\"/>\r\n       <use x=\"63.623047\" xlink:href=\"#DejaVuSans-48\"/>\r\n       <use x=\"127.246094\" xlink:href=\"#DejaVuSans-48\"/>\r\n       <use x=\"190.869141\" xlink:href=\"#DejaVuSans-53\"/>\r\n      </g>\r\n     </g>\r\n    </g>\r\n    <g id=\"ytick_4\">\r\n     <g id=\"line2d_5\">\r\n      <g>\r\n       <use style=\"stroke:#000000;stroke-width:0.8;\" x=\"39.65\" xlink:href=\"#m2cb9c700cb\" y=\"104.059636\"/>\r\n      </g>\r\n     </g>\r\n     <g id=\"text_5\">\r\n      <!-- 2010 -->\r\n      <g transform=\"translate(7.2 107.858855)scale(0.1 -0.1)\">\r\n       <use xlink:href=\"#DejaVuSans-50\"/>\r\n       <use x=\"63.623047\" xlink:href=\"#DejaVuSans-48\"/>\r\n       <use x=\"127.246094\" xlink:href=\"#DejaVuSans-49\"/>\r\n       <use x=\"190.869141\" xlink:href=\"#DejaVuSans-48\"/>\r\n      </g>\r\n     </g>\r\n    </g>\r\n    <g id=\"ytick_5\">\r\n     <g id=\"line2d_6\">\r\n      <g>\r\n       <use style=\"stroke:#000000;stroke-width:0.8;\" x=\"39.65\" xlink:href=\"#m2cb9c700cb\" y=\"64.525091\"/>\r\n      </g>\r\n     </g>\r\n     <g id=\"text_6\">\r\n      <!-- 2015 -->\r\n      <g transform=\"translate(7.2 68.32431)scale(0.1 -0.1)\">\r\n       <use xlink:href=\"#DejaVuSans-50\"/>\r\n       <use x=\"63.623047\" xlink:href=\"#DejaVuSans-48\"/>\r\n       <use x=\"127.246094\" xlink:href=\"#DejaVuSans-49\"/>\r\n       <use x=\"190.869141\" xlink:href=\"#DejaVuSans-53\"/>\r\n      </g>\r\n     </g>\r\n    </g>\r\n    <g id=\"ytick_6\">\r\n     <g id=\"line2d_7\">\r\n      <g>\r\n       <use style=\"stroke:#000000;stroke-width:0.8;\" x=\"39.65\" xlink:href=\"#m2cb9c700cb\" y=\"24.990545\"/>\r\n      </g>\r\n     </g>\r\n     <g id=\"text_7\">\r\n      <!-- 2020 -->\r\n      <g transform=\"translate(7.2 28.789764)scale(0.1 -0.1)\">\r\n       <use xlink:href=\"#DejaVuSans-50\"/>\r\n       <use x=\"63.623047\" xlink:href=\"#DejaVuSans-48\"/>\r\n       <use x=\"127.246094\" xlink:href=\"#DejaVuSans-50\"/>\r\n       <use x=\"190.869141\" xlink:href=\"#DejaVuSans-48\"/>\r\n      </g>\r\n     </g>\r\n    </g>\r\n   </g>\r\n   <g id=\"line2d_8\">\r\n    <path clip-path=\"url(#p3ff268afe5)\" d=\"M 207.05 88.245818 \r\nL 207.05 159.408 \r\n\" style=\"fill:none;stroke:#3f3f3f;stroke-linecap:square;stroke-width:1.5;\"/>\r\n   </g>\r\n   <g id=\"line2d_9\">\r\n    <path clip-path=\"url(#p3ff268afe5)\" d=\"M 207.05 40.804364 \r\nL 207.05 17.083636 \r\n\" style=\"fill:none;stroke:#3f3f3f;stroke-linecap:square;stroke-width:1.5;\"/>\r\n   </g>\r\n   <g id=\"line2d_10\">\r\n    <path clip-path=\"url(#p3ff268afe5)\" d=\"M 140.09 159.408 \r\nL 274.01 159.408 \r\n\" style=\"fill:none;stroke:#3f3f3f;stroke-linecap:square;stroke-width:1.5;\"/>\r\n   </g>\r\n   <g id=\"line2d_11\">\r\n    <path clip-path=\"url(#p3ff268afe5)\" d=\"M 140.09 17.083636 \r\nL 274.01 17.083636 \r\n\" style=\"fill:none;stroke:#3f3f3f;stroke-linecap:square;stroke-width:1.5;\"/>\r\n   </g>\r\n   <g id=\"line2d_12\">\r\n    <defs>\r\n     <path d=\"M 0 3.535534 \r\nL 2.12132 0 \r\nL 0 -3.535534 \r\nL -2.12132 0 \r\nz\r\n\" id=\"mf0830537bc\" style=\"stroke:#3f3f3f;stroke-linejoin:miter;\"/>\r\n    </defs>\r\n    <g clip-path=\"url(#p3ff268afe5)\">\r\n     <use style=\"fill:#3f3f3f;stroke:#3f3f3f;stroke-linejoin:miter;\" x=\"207.05\" xlink:href=\"#mf0830537bc\" y=\"214.756364\"/>\r\n     <use style=\"fill:#3f3f3f;stroke:#3f3f3f;stroke-linejoin:miter;\" x=\"207.05\" xlink:href=\"#mf0830537bc\" y=\"191.035636\"/>\r\n     <use style=\"fill:#3f3f3f;stroke:#3f3f3f;stroke-linejoin:miter;\" x=\"207.05\" xlink:href=\"#mf0830537bc\" y=\"214.756364\"/>\r\n     <use style=\"fill:#3f3f3f;stroke:#3f3f3f;stroke-linejoin:miter;\" x=\"207.05\" xlink:href=\"#mf0830537bc\" y=\"167.314909\"/>\r\n     <use style=\"fill:#3f3f3f;stroke:#3f3f3f;stroke-linejoin:miter;\" x=\"207.05\" xlink:href=\"#mf0830537bc\" y=\"167.314909\"/>\r\n     <use style=\"fill:#3f3f3f;stroke:#3f3f3f;stroke-linejoin:miter;\" x=\"207.05\" xlink:href=\"#mf0830537bc\" y=\"191.035636\"/>\r\n     <use style=\"fill:#3f3f3f;stroke:#3f3f3f;stroke-linejoin:miter;\" x=\"207.05\" xlink:href=\"#mf0830537bc\" y=\"198.942545\"/>\r\n     <use style=\"fill:#3f3f3f;stroke:#3f3f3f;stroke-linejoin:miter;\" x=\"207.05\" xlink:href=\"#mf0830537bc\" y=\"183.128727\"/>\r\n     <use style=\"fill:#3f3f3f;stroke:#3f3f3f;stroke-linejoin:miter;\" x=\"207.05\" xlink:href=\"#mf0830537bc\" y=\"191.035636\"/>\r\n     <use style=\"fill:#3f3f3f;stroke:#3f3f3f;stroke-linejoin:miter;\" x=\"207.05\" xlink:href=\"#mf0830537bc\" y=\"183.128727\"/>\r\n     <use style=\"fill:#3f3f3f;stroke:#3f3f3f;stroke-linejoin:miter;\" x=\"207.05\" xlink:href=\"#mf0830537bc\" y=\"175.221818\"/>\r\n     <use style=\"fill:#3f3f3f;stroke:#3f3f3f;stroke-linejoin:miter;\" x=\"207.05\" xlink:href=\"#mf0830537bc\" y=\"175.221818\"/>\r\n     <use style=\"fill:#3f3f3f;stroke:#3f3f3f;stroke-linejoin:miter;\" x=\"207.05\" xlink:href=\"#mf0830537bc\" y=\"175.221818\"/>\r\n     <use style=\"fill:#3f3f3f;stroke:#3f3f3f;stroke-linejoin:miter;\" x=\"207.05\" xlink:href=\"#mf0830537bc\" y=\"167.314909\"/>\r\n     <use style=\"fill:#3f3f3f;stroke:#3f3f3f;stroke-linejoin:miter;\" x=\"207.05\" xlink:href=\"#mf0830537bc\" y=\"183.128727\"/>\r\n     <use style=\"fill:#3f3f3f;stroke:#3f3f3f;stroke-linejoin:miter;\" x=\"207.05\" xlink:href=\"#mf0830537bc\" y=\"167.314909\"/>\r\n     <use style=\"fill:#3f3f3f;stroke:#3f3f3f;stroke-linejoin:miter;\" x=\"207.05\" xlink:href=\"#mf0830537bc\" y=\"167.314909\"/>\r\n     <use style=\"fill:#3f3f3f;stroke:#3f3f3f;stroke-linejoin:miter;\" x=\"207.05\" xlink:href=\"#mf0830537bc\" y=\"183.128727\"/>\r\n     <use style=\"fill:#3f3f3f;stroke:#3f3f3f;stroke-linejoin:miter;\" x=\"207.05\" xlink:href=\"#mf0830537bc\" y=\"183.128727\"/>\r\n     <use style=\"fill:#3f3f3f;stroke:#3f3f3f;stroke-linejoin:miter;\" x=\"207.05\" xlink:href=\"#mf0830537bc\" y=\"175.221818\"/>\r\n     <use style=\"fill:#3f3f3f;stroke:#3f3f3f;stroke-linejoin:miter;\" x=\"207.05\" xlink:href=\"#mf0830537bc\" y=\"175.221818\"/>\r\n     <use style=\"fill:#3f3f3f;stroke:#3f3f3f;stroke-linejoin:miter;\" x=\"207.05\" xlink:href=\"#mf0830537bc\" y=\"198.942545\"/>\r\n     <use style=\"fill:#3f3f3f;stroke:#3f3f3f;stroke-linejoin:miter;\" x=\"207.05\" xlink:href=\"#mf0830537bc\" y=\"167.314909\"/>\r\n     <use style=\"fill:#3f3f3f;stroke:#3f3f3f;stroke-linejoin:miter;\" x=\"207.05\" xlink:href=\"#mf0830537bc\" y=\"167.314909\"/>\r\n     <use style=\"fill:#3f3f3f;stroke:#3f3f3f;stroke-linejoin:miter;\" x=\"207.05\" xlink:href=\"#mf0830537bc\" y=\"198.942545\"/>\r\n     <use style=\"fill:#3f3f3f;stroke:#3f3f3f;stroke-linejoin:miter;\" x=\"207.05\" xlink:href=\"#mf0830537bc\" y=\"175.221818\"/>\r\n     <use style=\"fill:#3f3f3f;stroke:#3f3f3f;stroke-linejoin:miter;\" x=\"207.05\" xlink:href=\"#mf0830537bc\" y=\"191.035636\"/>\r\n     <use style=\"fill:#3f3f3f;stroke:#3f3f3f;stroke-linejoin:miter;\" x=\"207.05\" xlink:href=\"#mf0830537bc\" y=\"167.314909\"/>\r\n     <use style=\"fill:#3f3f3f;stroke:#3f3f3f;stroke-linejoin:miter;\" x=\"207.05\" xlink:href=\"#mf0830537bc\" y=\"175.221818\"/>\r\n     <use style=\"fill:#3f3f3f;stroke:#3f3f3f;stroke-linejoin:miter;\" x=\"207.05\" xlink:href=\"#mf0830537bc\" y=\"191.035636\"/>\r\n     <use style=\"fill:#3f3f3f;stroke:#3f3f3f;stroke-linejoin:miter;\" x=\"207.05\" xlink:href=\"#mf0830537bc\" y=\"175.221818\"/>\r\n     <use style=\"fill:#3f3f3f;stroke:#3f3f3f;stroke-linejoin:miter;\" x=\"207.05\" xlink:href=\"#mf0830537bc\" y=\"198.942545\"/>\r\n     <use style=\"fill:#3f3f3f;stroke:#3f3f3f;stroke-linejoin:miter;\" x=\"207.05\" xlink:href=\"#mf0830537bc\" y=\"191.035636\"/>\r\n     <use style=\"fill:#3f3f3f;stroke:#3f3f3f;stroke-linejoin:miter;\" x=\"207.05\" xlink:href=\"#mf0830537bc\" y=\"183.128727\"/>\r\n     <use style=\"fill:#3f3f3f;stroke:#3f3f3f;stroke-linejoin:miter;\" x=\"207.05\" xlink:href=\"#mf0830537bc\" y=\"191.035636\"/>\r\n     <use style=\"fill:#3f3f3f;stroke:#3f3f3f;stroke-linejoin:miter;\" x=\"207.05\" xlink:href=\"#mf0830537bc\" y=\"183.128727\"/>\r\n     <use style=\"fill:#3f3f3f;stroke:#3f3f3f;stroke-linejoin:miter;\" x=\"207.05\" xlink:href=\"#mf0830537bc\" y=\"191.035636\"/>\r\n     <use style=\"fill:#3f3f3f;stroke:#3f3f3f;stroke-linejoin:miter;\" x=\"207.05\" xlink:href=\"#mf0830537bc\" y=\"175.221818\"/>\r\n     <use style=\"fill:#3f3f3f;stroke:#3f3f3f;stroke-linejoin:miter;\" x=\"207.05\" xlink:href=\"#mf0830537bc\" y=\"167.314909\"/>\r\n     <use style=\"fill:#3f3f3f;stroke:#3f3f3f;stroke-linejoin:miter;\" x=\"207.05\" xlink:href=\"#mf0830537bc\" y=\"191.035636\"/>\r\n     <use style=\"fill:#3f3f3f;stroke:#3f3f3f;stroke-linejoin:miter;\" x=\"207.05\" xlink:href=\"#mf0830537bc\" y=\"183.128727\"/>\r\n     <use style=\"fill:#3f3f3f;stroke:#3f3f3f;stroke-linejoin:miter;\" x=\"207.05\" xlink:href=\"#mf0830537bc\" y=\"191.035636\"/>\r\n     <use style=\"fill:#3f3f3f;stroke:#3f3f3f;stroke-linejoin:miter;\" x=\"207.05\" xlink:href=\"#mf0830537bc\" y=\"175.221818\"/>\r\n     <use style=\"fill:#3f3f3f;stroke:#3f3f3f;stroke-linejoin:miter;\" x=\"207.05\" xlink:href=\"#mf0830537bc\" y=\"167.314909\"/>\r\n     <use style=\"fill:#3f3f3f;stroke:#3f3f3f;stroke-linejoin:miter;\" x=\"207.05\" xlink:href=\"#mf0830537bc\" y=\"183.128727\"/>\r\n     <use style=\"fill:#3f3f3f;stroke:#3f3f3f;stroke-linejoin:miter;\" x=\"207.05\" xlink:href=\"#mf0830537bc\" y=\"191.035636\"/>\r\n     <use style=\"fill:#3f3f3f;stroke:#3f3f3f;stroke-linejoin:miter;\" x=\"207.05\" xlink:href=\"#mf0830537bc\" y=\"167.314909\"/>\r\n     <use style=\"fill:#3f3f3f;stroke:#3f3f3f;stroke-linejoin:miter;\" x=\"207.05\" xlink:href=\"#mf0830537bc\" y=\"183.128727\"/>\r\n     <use style=\"fill:#3f3f3f;stroke:#3f3f3f;stroke-linejoin:miter;\" x=\"207.05\" xlink:href=\"#mf0830537bc\" y=\"198.942545\"/>\r\n     <use style=\"fill:#3f3f3f;stroke:#3f3f3f;stroke-linejoin:miter;\" x=\"207.05\" xlink:href=\"#mf0830537bc\" y=\"198.942545\"/>\r\n    </g>\r\n   </g>\r\n   <g id=\"line2d_13\">\r\n    <path clip-path=\"url(#p3ff268afe5)\" d=\"M 73.13 56.618182 \r\nL 340.97 56.618182 \r\n\" style=\"fill:none;stroke:#3f3f3f;stroke-linecap:square;stroke-width:1.5;\"/>\r\n   </g>\r\n   <g id=\"patch_4\">\r\n    <path d=\"M 39.65 224.64 \r\nL 39.65 7.2 \r\n\" style=\"fill:none;stroke:#000000;stroke-linecap:square;stroke-linejoin:miter;stroke-width:0.8;\"/>\r\n   </g>\r\n   <g id=\"patch_5\">\r\n    <path d=\"M 374.45 224.64 \r\nL 374.45 7.2 \r\n\" style=\"fill:none;stroke:#000000;stroke-linecap:square;stroke-linejoin:miter;stroke-width:0.8;\"/>\r\n   </g>\r\n   <g id=\"patch_6\">\r\n    <path d=\"M 39.65 224.64 \r\nL 374.45 224.64 \r\n\" style=\"fill:none;stroke:#000000;stroke-linecap:square;stroke-linejoin:miter;stroke-width:0.8;\"/>\r\n   </g>\r\n   <g id=\"patch_7\">\r\n    <path d=\"M 39.65 7.2 \r\nL 374.45 7.2 \r\n\" style=\"fill:none;stroke:#000000;stroke-linecap:square;stroke-linejoin:miter;stroke-width:0.8;\"/>\r\n   </g>\r\n  </g>\r\n </g>\r\n <defs>\r\n  <clipPath id=\"p3ff268afe5\">\r\n   <rect height=\"217.44\" width=\"334.8\" x=\"39.65\" y=\"7.2\"/>\r\n  </clipPath>\r\n </defs>\r\n</svg>\r\n",
      "text/plain": "<Figure size 432x288 with 1 Axes>"
     },
     "metadata": {
      "needs_background": "light",
      "transient": {}
     },
     "output_type": "display_data"
    }
   ],
   "source": [
    "#blotting year foundation distribution\r\n",
    "blotyear = sns.boxplot(data=startups)\r\n",
    "plt.savefig(\"output.png\")\r\n",
    "startups['founded_year'].describe()\r\n",
    "startups['founded_year'].loc[startups['founded_year'] == 2016].count()\r\n"
   ]
  }
 ],
 "metadata": {
  "kernelspec": {
   "display_name": "Python 3",
   "language": "python",
   "name": "python3"
  },
  "language_info": {
   "version": "3.8.5-final"
  },
  "orig_nbformat": 2
 },
 "nbformat": 4,
 "nbformat_minor": 2
}