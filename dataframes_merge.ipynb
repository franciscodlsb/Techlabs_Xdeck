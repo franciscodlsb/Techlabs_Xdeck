{
 "cells": [
  {
   "cell_type": "code",
   "execution_count": 3,
   "metadata": {},
   "outputs": [],
   "source": [
    "#importing packages\r\n",
    "import pandas as pd\r\n",
    "import seaborn as sns\r\n",
    "import matplotlib.pyplot as plt\r\n",
    "import numpy as np"
   ]
  },
  {
   "cell_type": "code",
   "execution_count": 4,
   "metadata": {},
   "outputs": [],
   "source": [
    "startups = pd.read_csv('deutsche_startups.csv')\r\n",
    "startbase = pd.read_csv(r'C:\\Users\\Paola Loreto\\Documents\\startbase.txt')\r\n"
   ]
  },
  {
   "cell_type": "code",
   "execution_count": 5,
   "metadata": {},
   "outputs": [],
   "source": [
    "startbase = startbase.drop(columns= ['Logo', 'Teaser', 'Company Stage', 'Customer Focus', 'Team Size', 'Handelsregister', 'Business Model', 'Legal Entity', 'About'])"
   ]
  },
  {
   "cell_type": "code",
   "execution_count": 6,
   "metadata": {},
   "outputs": [
    {
     "data": {
      "text/html": "<div>\n<style scoped>\n    .dataframe tbody tr th:only-of-type {\n        vertical-align: middle;\n    }\n\n    .dataframe tbody tr th {\n        vertical-align: top;\n    }\n\n    .dataframe thead th {\n        text-align: right;\n    }\n</style>\n<table border=\"1\" class=\"dataframe\">\n  <thead>\n    <tr style=\"text-align: right;\">\n      <th></th>\n      <th>Company_name</th>\n      <th>URL</th>\n      <th>company_head</th>\n      <th>founded_year</th>\n      <th>location</th>\n      <th>model</th>\n      <th>contact</th>\n    </tr>\n  </thead>\n  <tbody>\n    <tr>\n      <th>0</th>\n      <td>soap &amp; precede</td>\n      <td>heimathaufen.de</td>\n      <td>{'Oliver Schumacher': 'Co-Founder', 'Boris Sch...</td>\n      <td>2018.0</td>\n      <td>Hamburg, DE</td>\n      <td>Nutrition &amp; Consumables</td>\n      <td>['https://www.instagram.com/soapandprecede/', ...</td>\n    </tr>\n    <tr>\n      <th>1</th>\n      <td>creditshelf</td>\n      <td>creditshelf.com</td>\n      <td>{'Birgit Hass': ''}</td>\n      <td>2014.0</td>\n      <td>Frankfurt, DE</td>\n      <td>Finance &amp; Insurance</td>\n      <td>['https://twitter.com/creditshelf', 'https://w...</td>\n    </tr>\n    <tr>\n      <th>2</th>\n      <td>Swarm Logistics</td>\n      <td>swarmlogistics.net</td>\n      <td>{'Damir Dulovic': ''}</td>\n      <td>2018.0</td>\n      <td>Stuttgart, DE</td>\n      <td>Industrial &amp; Basic Materials</td>\n      <td>['https://twitter.com/swarmlogistics', 'https:...</td>\n    </tr>\n    <tr>\n      <th>3</th>\n      <td>Mädchenflohmarkt</td>\n      <td>maedchenflohmarkt.de</td>\n      <td>{'Peter Ambrozy': ''}</td>\n      <td>2012.0</td>\n      <td>Stuttgart, DE</td>\n      <td>Textiles</td>\n      <td>['https://www.instagram.com/maedchenflohmarkt/...</td>\n    </tr>\n    <tr>\n      <th>4</th>\n      <td>ViveLaCar</td>\n      <td>vivelacar.com</td>\n      <td>{'Florine von Caprivi': 'CRO', 'Mathias Albert...</td>\n      <td>2019.0</td>\n      <td>Stuttgart, DE</td>\n      <td>Automotive, Logistics &amp; Mobility</td>\n      <td>['https://www.instagram.com/vivelacar_autoabo/...</td>\n    </tr>\n  </tbody>\n</table>\n</div>",
      "text/plain": "       Company_name                   URL  \\\n0    soap & precede       heimathaufen.de   \n1       creditshelf       creditshelf.com   \n2   Swarm Logistics    swarmlogistics.net   \n3  Mädchenflohmarkt  maedchenflohmarkt.de   \n4         ViveLaCar         vivelacar.com   \n\n                                        company_head  founded_year  \\\n0  {'Oliver Schumacher': 'Co-Founder', 'Boris Sch...        2018.0   \n1                                {'Birgit Hass': ''}        2014.0   \n2                              {'Damir Dulovic': ''}        2018.0   \n3                              {'Peter Ambrozy': ''}        2012.0   \n4  {'Florine von Caprivi': 'CRO', 'Mathias Albert...        2019.0   \n\n        location                             model  \\\n0    Hamburg, DE           Nutrition & Consumables   \n1  Frankfurt, DE               Finance & Insurance   \n2  Stuttgart, DE      Industrial & Basic Materials   \n3  Stuttgart, DE                          Textiles   \n4  Stuttgart, DE  Automotive, Logistics & Mobility   \n\n                                             contact  \n0  ['https://www.instagram.com/soapandprecede/', ...  \n1  ['https://twitter.com/creditshelf', 'https://w...  \n2  ['https://twitter.com/swarmlogistics', 'https:...  \n3  ['https://www.instagram.com/maedchenflohmarkt/...  \n4  ['https://www.instagram.com/vivelacar_autoabo/...  "
     },
     "execution_count": 6,
     "metadata": {},
     "output_type": "execute_result"
    }
   ],
   "source": [
    "#Changing startbase columns and adapting to startups\r\n",
    "startbase = startbase[['Name', 'Official Website', 'Members', 'Founding Year', 'Headquarter', 'Sector', 'On Social Media']]\r\n",
    "startbase.columns = ['Company_name', 'URL', 'company_head', 'founded_year', 'location', 'model', 'contact']\r\n",
    "startbase.head()"
   ]
  },
  {
   "cell_type": "code",
   "execution_count": 7,
   "metadata": {},
   "outputs": [],
   "source": [
    "#Concatenating both df\r\n",
    "all_startups = pd.concat([startups,startbase])"
   ]
  },
  {
   "cell_type": "code",
   "execution_count": 11,
   "metadata": {},
   "outputs": [],
   "source": [
    "#ID startups without location \r\n",
    "all_startups.describe()\r\n",
    "no_location = pd.isnull(all_startups['location'])\r\n",
    "x = np.where(no_location)[0] \r\n",
    "x = np.nan "
   ]
  },
  {
   "cell_type": "code",
   "execution_count": 12,
   "metadata": {},
   "outputs": [],
   "source": [
    "clean_startups = all_startups.drop_duplicates(subset = 'Company_name')\r\n",
    "clean_startups.replace(['NaN','', ' ', '{}','[]'], None)\r\n",
    "clean_startups.describe()\r\n",
    "list_startups = clean_startups.to_csv(r'C:\\Users\\Paola Loreto\\Documents\\DOCUMENTS\\Tech_Labs\\list_startups.csv', index =False)"
   ]
  },
  {
   "cell_type": "code",
   "execution_count": 13,
   "metadata": {},
   "outputs": [],
   "source": [
    "startups = pd.read_csv(r'C:\\Users\\Paola Loreto\\Documents\\DOCUMENTS\\Tech_Labs\\list_startups.csv')"
   ]
  },
  {
   "cell_type": "code",
   "execution_count": 14,
   "metadata": {},
   "outputs": [],
   "source": [
    "locations = startups['location']\r\n",
    "location = [str(x) for x in locations]\r\n",
    "startups['location'] = location\r\n",
    "startups['location'] = startups['location'].str.replace(', DE', '')"
   ]
  },
  {
   "cell_type": "code",
   "execution_count": 71,
   "metadata": {},
   "outputs": [],
   "source": [
    "year = startups['founded_year']\r\n",
    "year = year.replace(['2006 / 2001', '1996 / 2007', '2004 / 2008', '2001 / 2007', ], 'nan')\r\n",
    "year = year.replace('2005 (als Hitflip Media Trading GmbH)', '2005')\r\n",
    "year = year.replace(['2007 (Spin', '2006/2008'], '2007')\r\n",
    "digits = year.str.len()\r\n",
    "year.loc[digits < 4] =np.nan\r\n",
    "year = [float(x) for x in year]\r\n",
    "years = list(set(year))\r\n",
    "startups['founded_year'] = year"
   ]
  },
  {
   "cell_type": "code",
   "execution_count": 74,
   "metadata": {},
   "outputs": [
    {
     "data": {
      "text/html": "<div>\n<style scoped>\n    .dataframe tbody tr th:only-of-type {\n        vertical-align: middle;\n    }\n\n    .dataframe tbody tr th {\n        vertical-align: top;\n    }\n\n    .dataframe thead th {\n        text-align: right;\n    }\n</style>\n<table border=\"1\" class=\"dataframe\">\n  <thead>\n    <tr style=\"text-align: right;\">\n      <th></th>\n      <th>Company_name</th>\n      <th>URL</th>\n      <th>company_head</th>\n      <th>founded_year</th>\n      <th>location</th>\n      <th>model</th>\n      <th>contact</th>\n    </tr>\n  </thead>\n  <tbody>\n    <tr>\n      <th>0</th>\n      <td>1000Mikes AG</td>\n      <td>http://www.1000mikes.com/</td>\n      <td>Frank Felix Debatin, Peter Schweyer</td>\n      <td>2007.0</td>\n      <td>Hamburg</td>\n      <td>User generated Webradio</td>\n      <td>info@1000mikes.com</td>\n    </tr>\n    <tr>\n      <th>1</th>\n      <td>12designer</td>\n      <td>http://www.12designer.com</td>\n      <td>Lars Bamberg</td>\n      <td>2009.0</td>\n      <td>Berlin</td>\n      <td>Marktplatz für Kreatives</td>\n      <td>NaN</td>\n    </tr>\n    <tr>\n      <th>2</th>\n      <td>12like GmbH</td>\n      <td>http://www.12like.com</td>\n      <td>Kathrin Anselm, Dirk Wischnewski</td>\n      <td>2010.0</td>\n      <td>Berlin</td>\n      <td>Partnervermittlung</td>\n      <td>NaN</td>\n    </tr>\n    <tr>\n      <th>3</th>\n      <td>15Talents.com GmbH &amp; Co. KG</td>\n      <td>http://www.15talents.com/</td>\n      <td>Marc Dr?ner, Henrike Fr?chling</td>\n      <td>2008.0</td>\n      <td>Berlin</td>\n      <td>Projektmartktplatz für Unternehmen und Studenten</td>\n      <td>team@15talents.com</td>\n    </tr>\n    <tr>\n      <th>4</th>\n      <td>21Publish Web Services GmbH</td>\n      <td>http://www.yourteam.de/</td>\n      <td>Stefan Wiskemann</td>\n      <td>2007.0</td>\n      <td>Hamburg</td>\n      <td>Mannschafts-Community</td>\n      <td>NaN</td>\n    </tr>\n  </tbody>\n</table>\n</div>",
      "text/plain": "                  Company_name                        URL  \\\n0                 1000Mikes AG  http://www.1000mikes.com/   \n1                   12designer  http://www.12designer.com   \n2                  12like GmbH      http://www.12like.com   \n3  15Talents.com GmbH & Co. KG  http://www.15talents.com/   \n4  21Publish Web Services GmbH    http://www.yourteam.de/   \n\n                          company_head  founded_year location  \\\n0  Frank Felix Debatin, Peter Schweyer        2007.0  Hamburg   \n1                         Lars Bamberg        2009.0   Berlin   \n2     Kathrin Anselm, Dirk Wischnewski        2010.0   Berlin   \n3       Marc Dr?ner, Henrike Fr?chling        2008.0   Berlin   \n4                     Stefan Wiskemann        2007.0  Hamburg   \n\n                                              model             contact  \n0                           User generated Webradio  info@1000mikes.com  \n1                          Marktplatz für Kreatives                 NaN  \n2                                Partnervermittlung                 NaN  \n3  Projektmartktplatz für Unternehmen und Studenten  team@15talents.com  \n4                             Mannschafts-Community                 NaN  "
     },
     "execution_count": 74,
     "metadata": {},
     "output_type": "execute_result"
    }
   ],
   "source": [
    "startups.head()"
   ]
  }
 ],
 "metadata": {
  "kernelspec": {
   "display_name": "Python 3",
   "language": "python",
   "name": "python3"
  },
  "language_info": {
   "codemirror_mode": {
    "name": "ipython",
    "version": 3
   },
   "file_extension": ".py",
   "mimetype": "text/x-python",
   "name": "python",
   "nbconvert_exporter": "python",
   "pygments_lexer": "ipython3",
   "version": "3.8.3"
  },
  "orig_nbformat": 2
 },
 "nbformat": 4,
 "nbformat_minor": 2
}