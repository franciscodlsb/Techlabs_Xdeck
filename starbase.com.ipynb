{
 "cells": [
  {
   "cell_type": "code",
   "execution_count": 1,
   "metadata": {
    "ExecuteTime": {
     "end_time": "2021-01-22T12:43:58.164555Z",
     "start_time": "2021-01-22T12:43:55.490927Z"
    }
   },
   "outputs": [],
   "source": [
    "import pandas as pd\n",
    "import requests\n",
    "from datetime import datetime\n",
    "import csv\n",
    "from bs4 import BeautifulSoup"
   ]
  },
  {
   "cell_type": "code",
   "execution_count": 2,
   "metadata": {
    "ExecuteTime": {
     "end_time": "2021-01-22T12:46:35.140865Z",
     "start_time": "2021-01-22T12:46:34.305143Z"
    }
   },
   "outputs": [],
   "source": [
    "# Get url first trial of one company\n",
    "url = 'https://www.startbase.com/organization/heimathaufen-gmbh/'\n",
    "response = requests.get(url)\n",
    "soup = BeautifulSoup(response.text, 'html.parser')"
   ]
  },
  {
   "cell_type": "code",
   "execution_count": 77,
   "metadata": {
    "ExecuteTime": {
     "end_time": "2021-01-22T13:43:12.809588Z",
     "start_time": "2021-01-22T13:43:12.805598Z"
    }
   },
   "outputs": [],
   "source": [
    "# Name, logo and teaser\n",
    "title_card = soup.find('div', 'flex-grow-1 mx-lg-4')\n",
    "startup_name = title_card.h1.get('data-name')\n",
    "logo = title_card.h1.get('data-icon')\n",
    "teaser = title_card.find('div', 'sb-teaser').text.strip()"
   ]
  },
  {
   "cell_type": "code",
   "execution_count": 283,
   "metadata": {
    "ExecuteTime": {
     "end_time": "2021-01-22T15:52:51.093708Z",
     "start_time": "2021-01-22T15:52:51.079743Z"
    }
   },
   "outputs": [],
   "source": [
    "# Body info\n",
    "body_card = soup.find('ul', 'unformated row justify-content-start mb-0')\n",
    "info_cards = body_card.find_all('li')\n",
    "startup_info = []; labels_info = []\n",
    "\n",
    "for count, info in enumerate(info_cards):\n",
    "    labels_info.append(info.text.strip().split(':')[0])\n",
    "    if count != 9: #10th item is links to social media\n",
    "        info_piece = info.text.strip()\n",
    "        # text cleaning\n",
    "        if '\\n ' in info_piece:\n",
    "            info_piece = info_piece.split('\\n ')[1]\n",
    "        else:\n",
    "            info_piece = info_piece.split(': ')[1]\n",
    "        \n",
    "        if info_piece[0] == ' ':\n",
    "            info_piece = info_piece[1::]   \n",
    "    else: #social media\n",
    "        media_links = []\n",
    "        for media in info.find_all('a'):\n",
    "            media_links.append(media.get('href'))\n",
    "        info_piece = media_links\n",
    "\n",
    "    startup_info.append(info_piece)\n"
   ]
  },
  {
   "cell_type": "code",
   "execution_count": 293,
   "metadata": {
    "ExecuteTime": {
     "end_time": "2021-01-22T16:00:27.003676Z",
     "start_time": "2021-01-22T16:00:26.983728Z"
    }
   },
   "outputs": [],
   "source": [
    "# About info\n",
    "about_company = soup.find('div', {'class':'sb-card mb-4'}, id='company').p.text\n",
    "\n",
    "# Team info\n",
    "member_cards =  soup.find('div', {'class':'sb-card mb-4'}, id='team')\n",
    "# Get names\n",
    "member_names = soup.find_all('span',{'class':'name'})\n",
    "names = [];\n",
    "for name in member_names:\n",
    "    names.append(name.text)\n",
    "# Get labels\n",
    "member_labels = soup.find_all('span',{'class':'label'})\n",
    "labels = [];\n",
    "for label in member_labels:\n",
    "    labels.append(label.text) "
   ]
  },
  {
   "cell_type": "code",
   "execution_count": 331,
   "metadata": {
    "ExecuteTime": {
     "end_time": "2021-01-22T16:34:55.187210Z",
     "start_time": "2021-01-22T16:34:55.179234Z"
    }
   },
   "outputs": [],
   "source": [
    "# Pool data in table\n",
    "info_data = [startup_name] + [logo] + [teaser] + startup_info + [about_company] + [team_members]\n",
    "info_labels = ['Name'] + ['Logo'] + ['Teaser'] + labels_info + ['About'] + ['Members']\n",
    "\n",
    "company_data = dict(zip(info_labels, info_data))\n",
    "\n",
    "startbase = pd.DataFrame([company_data])"
   ]
  },
  {
   "cell_type": "code",
   "execution_count": 332,
   "metadata": {
    "ExecuteTime": {
     "end_time": "2021-01-22T16:35:24.695312Z",
     "start_time": "2021-01-22T16:35:24.650427Z"
    }
   },
   "outputs": [],
   "source": [
    "# Extract the info from a company url\n",
    "def get_company_info(url):\n",
    "    response = requests.get(url)\n",
    "    soup = BeautifulSoup(response.text, 'html.parser')\n",
    "    \n",
    "    # Name, logo and teaser\n",
    "    title_card = soup.find('div', 'flex-grow-1 mx-lg-4')\n",
    "    startup_name = title_card.h1.get('data-name')\n",
    "    logo = title_card.h1.get('data-icon')\n",
    "    teaser = title_card.find('div', 'sb-teaser').text.strip()\n",
    "    \n",
    "    # Body info\n",
    "    body_card = soup.find('ul', 'unformated row justify-content-start mb-0')\n",
    "    info_cards = body_card.find_all('li')\n",
    "    startup_info = []; labels_info = []\n",
    "\n",
    "    for count, info in enumerate(info_cards):\n",
    "        labels_info.append(info.text.strip().split(':')[0])\n",
    "        if count != 9: #10th item is links to social media\n",
    "            info_piece = info.text.strip()\n",
    "            # text cleaning\n",
    "            if '\\n ' in info_piece:\n",
    "                info_piece = info_piece.split('\\n ')[1]\n",
    "            else:\n",
    "                info_piece = info_piece.split(': ')[1]\n",
    "\n",
    "            if info_piece[0] == ' ':\n",
    "                info_piece = info_piece[1::]   \n",
    "        else: #social media\n",
    "            media_links = []\n",
    "            for media in info.find_all('a'):\n",
    "                media_links.append(media.get('href'))\n",
    "            info_piece = media_links\n",
    "\n",
    "        startup_info.append(info_piece)\n",
    "\n",
    "    # About info\n",
    "    about_company = soup.find('div', {'class':'sb-card mb-4'}, id='company').p.text\n",
    "    \n",
    "    # Team info\n",
    "    # Get names\n",
    "    member_names = soup.find_all('span',{'class':'name'})\n",
    "    names = [];\n",
    "    for name in member_names:\n",
    "        names.append(name.text)\n",
    "    # Get labels\n",
    "    member_labels = soup.find_all('span',{'class':'label'})\n",
    "    labels = [];\n",
    "    for label in member_labels:\n",
    "        labels.append(label.text)  \n",
    "    \n",
    "    # Join extracted data\n",
    "    info_data = [startup_name] + [logo] + [teaser] + startup_info + [about_company] + [team_members]\n",
    "    info_labels = ['Name'] + ['Logo'] + ['Teaser'] + labels_info + ['About'] + ['Members']\n",
    "    \n",
    "    company_data = dict(zip(info_labels, info_data))\n",
    "    \n",
    "    return company_data"
   ]
  },
  {
   "cell_type": "code",
   "execution_count": 333,
   "metadata": {
    "ExecuteTime": {
     "end_time": "2021-01-22T16:35:46.333333Z",
     "start_time": "2021-01-22T16:35:45.370612Z"
    }
   },
   "outputs": [],
   "source": [
    "url = 'https://www.startbase.com/organization/heimathaufen-gmbh/'"
   ]
  },
  {
   "cell_type": "code",
   "execution_count": 334,
   "metadata": {
    "ExecuteTime": {
     "end_time": "2021-01-22T16:35:48.704487Z",
     "start_time": "2021-01-22T16:35:48.698506Z"
    }
   },
   "outputs": [
    {
     "data": {
      "text/plain": [
       "{'Name': 'soap & precede',\n",
       " 'Logo': 'https://cdn.startbase.com/images/company/heimathaufen-gmbh/b9375393f9/?w=205&h=64',\n",
       " 'Teaser': 'Development, production and distribution of sustainable \"powder-to-liquid\" shower gel and shampoo.',\n",
       " 'Sector': 'Nutrition & Consumables',\n",
       " 'Company Stage': 'Growth Stage',\n",
       " 'Business Model': 'Manufacturing',\n",
       " 'Customer Focus': 'B2C',\n",
       " 'Founding Year': '2018',\n",
       " 'Team Size': '1-10 Employees',\n",
       " 'Handelsregister': 'Found',\n",
       " 'Headquarter': 'Hamburg, DE',\n",
       " 'Official Website': 'heimathaufen.de',\n",
       " 'On Social Media': ['https://www.instagram.com/soapandprecede/',\n",
       "  'https://twitter.com/soapandprecede',\n",
       "  'https://www.facebook.com/soapandprecede'],\n",
       " 'Legal Entity': 'HEIMATHAUFEN GmbH',\n",
       " 'About': 'For everybody, who cares about living a sustainable life and wants their bathroom to be zero waste, our all in. WASH. is a personal care product, that\\'s enabling exact that - by being environmentally friendly and low-packaging like a solid bar of soap and yet the liquid product customers love and prefer to use. Unlike traditional liquid products like shower gel or shampoo, the all in. WASH. saves up to 90% of CO2 emissions and 95% of plastic packaging during its life cycle - all due to our \"powder-to-liquid\" formula.',\n",
       " 'Members': {'Oliver Schumacher': 'Co-Founder',\n",
       "  'Boris Schumacher': 'Co-Founder'}}"
      ]
     },
     "execution_count": 334,
     "metadata": {},
     "output_type": "execute_result"
    }
   ],
   "source": []
  },
  {
   "cell_type": "code",
   "execution_count": null,
   "metadata": {},
   "outputs": [],
   "source": []
  }
 ],
 "metadata": {
  "kernelspec": {
   "display_name": "Python 3",
   "language": "python",
   "name": "python3"
  },
  "language_info": {
   "codemirror_mode": {
    "name": "ipython",
    "version": 3
   },
   "file_extension": ".py",
   "mimetype": "text/x-python",
   "name": "python",
   "nbconvert_exporter": "python",
   "pygments_lexer": "ipython3",
   "version": "3.7.7"
  },
  "toc": {
   "base_numbering": 1,
   "nav_menu": {},
   "number_sections": true,
   "sideBar": true,
   "skip_h1_title": false,
   "title_cell": "Table of Contents",
   "title_sidebar": "Contents",
   "toc_cell": false,
   "toc_position": {},
   "toc_section_display": true,
   "toc_window_display": false
  },
  "varInspector": {
   "cols": {
    "lenName": 16,
    "lenType": 16,
    "lenVar": 40
   },
   "kernels_config": {
    "python": {
     "delete_cmd_postfix": "",
     "delete_cmd_prefix": "del ",
     "library": "var_list.py",
     "varRefreshCmd": "print(var_dic_list())"
    },
    "r": {
     "delete_cmd_postfix": ") ",
     "delete_cmd_prefix": "rm(",
     "library": "var_list.r",
     "varRefreshCmd": "cat(var_dic_list()) "
    }
   },
   "types_to_exclude": [
    "module",
    "function",
    "builtin_function_or_method",
    "instance",
    "_Feature"
   ],
   "window_display": false
  }
 },
 "nbformat": 4,
 "nbformat_minor": 4
}
