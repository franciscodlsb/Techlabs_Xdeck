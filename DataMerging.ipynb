{
 "cells": [
  {
   "cell_type": "code",
   "execution_count": 22,
   "metadata": {
    "ExecuteTime": {
     "end_time": "2021-02-05T18:56:49.080841Z",
     "start_time": "2021-02-05T18:56:49.074857Z"
    }
   },
   "outputs": [],
   "source": [
    "import pandas as pd\n",
    "import recordlinkage as rl"
   ]
  },
  {
   "cell_type": "code",
   "execution_count": 23,
   "metadata": {
    "ExecuteTime": {
     "end_time": "2021-02-05T18:56:49.518787Z",
     "start_time": "2021-02-05T18:56:49.427893Z"
    }
   },
   "outputs": [],
   "source": [
    "# Open Files\n",
    "startbase = pd.read_csv('Startbase/startbase.csv')\n",
    "startups = pd.read_csv('deutsche_startups.csv')"
   ]
  },
  {
   "cell_type": "code",
   "execution_count": 24,
   "metadata": {
    "ExecuteTime": {
     "end_time": "2021-02-05T18:56:49.693436Z",
     "start_time": "2021-02-05T18:56:49.681514Z"
    }
   },
   "outputs": [],
   "source": [
    "# Rename columns in a dataset (same criteria should be applied when scrapping)\n",
    "startbase = startbase.rename(columns={'Official Website':'URL', 'On Social Media':'Contact'})\n",
    "startups.columns = ['Name', 'URL', 'Members', 'Founding Year', 'Headquarter', 'Sector', 'Contact']"
   ]
  },
  {
   "cell_type": "code",
   "execution_count": 25,
   "metadata": {
    "ExecuteTime": {
     "end_time": "2021-02-05T18:56:50.040166Z",
     "start_time": "2021-02-05T18:56:50.035177Z"
    }
   },
   "outputs": [],
   "source": [
    "# UNFINISHED!\n",
    "# Compare the two databases using recordlinkage\n",
    "# indexer = rl.Index()\n",
    "# indexer.block('Name')\n",
    "# pairs = indexer.index(startbase, startups)\n",
    "# compare_cl = rl.Compare()\n",
    "# compare_cl.exact('URL', 'URL', label = 'URL')\n",
    "# compare_cl.exact('Founding Year', 'Founding Year', label = 'Founding Year')\n",
    "# potential_matches = compare_cl.compute(pairs, startbase, startups)\n",
    "# print(potential_matches)\n",
    "# print(len(potential_matches))\n",
    "\n",
    "# merged = pd.merge(left=startbase, right=startups, how = 'outer', on='Name', copy = False, indicator = True)\n",
    "# print(merged.shape)\n",
    "# merged.head()"
   ]
  },
  {
   "cell_type": "code",
   "execution_count": 57,
   "metadata": {
    "ExecuteTime": {
     "end_time": "2021-02-05T19:10:57.109585Z",
     "start_time": "2021-02-05T19:10:57.091604Z"
    }
   },
   "outputs": [],
   "source": [
    "# Combine databases\n",
    "all_startups = pd.concat([startbase,startups], ignore_index=True)\n",
    "dups = all_startups.duplicated('Name')\n",
    "#all_startups = all_startups.drop_duplicates(subset = 'Name')\n",
    "#all_startups.describe()"
   ]
  },
  {
   "cell_type": "code",
   "execution_count": 58,
   "metadata": {
    "ExecuteTime": {
     "end_time": "2021-02-05T19:10:57.383425Z",
     "start_time": "2021-02-05T19:10:57.255795Z"
    }
   },
   "outputs": [
    {
     "name": "stdout",
     "output_type": "stream",
     "text": [
      "<class 'pandas.core.frame.DataFrame'>\n",
      "Int64Index: 5600 entries, 0 to 5656\n",
      "Data columns (total 16 columns):\n",
      " #   Column           Non-Null Count  Dtype \n",
      "---  ------           --------------  ----- \n",
      " 0   Name             5600 non-null   string\n",
      " 1   Logo             4549 non-null   object\n",
      " 2   Teaser           4244 non-null   string\n",
      " 3   Sector           5572 non-null   string\n",
      " 4   Company Stage    4549 non-null   string\n",
      " 5   Business Model   4549 non-null   string\n",
      " 6   Customer Focus   4549 non-null   string\n",
      " 7   Founding Year    5550 non-null   object\n",
      " 8   Team Size        4285 non-null   string\n",
      " 9   Handelsregister  4549 non-null   object\n",
      " 10  Headquarter      5594 non-null   string\n",
      " 11  URL              5556 non-null   string\n",
      " 12  Contact          5341 non-null   object\n",
      " 13  Legal Entity     4549 non-null   string\n",
      " 14  About            1297 non-null   string\n",
      " 15  Members          5578 non-null   object\n",
      "dtypes: object(5), string(11)\n",
      "memory usage: 743.8+ KB\n"
     ]
    }
   ],
   "source": [
    "# Cleaning\n",
    "all_startups.replace(['NaN','', ' ', '{}','[]'], None) # Clean Nans and empty\n",
    "# Change types and clean strings\n",
    "all_startups['Name'] = all_startups['Name'].astype('string')\n",
    "all_startups['Teaser'] = all_startups['Teaser'].astype('string')\n",
    "all_startups['Sector'] = all_startups['Sector'].astype('string')\n",
    "all_startups['Company Stage'] = all_startups['Company Stage'].astype('string')\n",
    "all_startups['Business Model'] = all_startups['Business Model'].astype('string')\n",
    "all_startups['Customer Focus'] = all_startups['Customer Focus'].astype('string')\n",
    "all_startups['Team Size'] = all_startups['Team Size'].astype('string')\n",
    "all_startups['Team Size'] = all_startups['Team Size'].str.replace(' Employees', '')\n",
    "all_startups.drop('Handelsregister', axis = 1)\n",
    "all_startups['Headquarter'] = all_startups['Headquarter'].astype('string')\n",
    "all_startups['Headquarter'] = all_startups['Headquarter'].str.replace(', DE', '')\n",
    "all_startups['URL'] = all_startups['URL'].astype('string')\n",
    "all_startups['Legal Entity'] = all_startups['Legal Entity'].astype('string')\n",
    "all_startups['About'] = all_startups['About'].astype('string')\n",
    "\n",
    "# Clean Year\n",
    "year = startups['Founding Year']\n",
    "# year = year.replace(['2006 / 2001', '1996 / 2007', '2004 / 2008', '2001 / 2007', ], None)\n",
    "# year = year.replace('2005 (als Hitflip Media Trading GmbH)', '2005')\n",
    "# year = year.replace(['2007 (Spin', '2006/2008'], '2007')\n",
    "digits = year.str.len()\n",
    "year.loc[digits != 4] = np.nan\n",
    "# year = [float(x) for x in year]\n",
    "# years = list(set(year))\n",
    "year = year.astype('float64')\n",
    "startups['Founding Year'] = year\n",
    "\n",
    "# Clean duplicates\n",
    "ids = all_startups['Name']\n",
    "#print(all_startups[ids.isin(ids[ids.duplicated()])].shape)\n",
    "#all_startups[ids.duplicated()].sort_values('Name') # Check duplicates\n",
    "all_startups = all_startups.drop_duplicates(subset = 'Name')\n",
    "\n",
    "# Check\n",
    "all_startups.info()"
   ]
  },
  {
   "cell_type": "code",
   "execution_count": null,
   "metadata": {},
   "outputs": [],
   "source": []
  }
 ],
 "metadata": {
  "kernelspec": {
   "display_name": "Python 3",
   "language": "python",
   "name": "python3"
  },
  "language_info": {
   "codemirror_mode": {
    "name": "ipython",
    "version": 3
   },
   "file_extension": ".py",
   "mimetype": "text/x-python",
   "name": "python",
   "nbconvert_exporter": "python",
   "pygments_lexer": "ipython3",
   "version": "3.7.7"
  },
  "toc": {
   "base_numbering": 1,
   "nav_menu": {},
   "number_sections": true,
   "sideBar": true,
   "skip_h1_title": false,
   "title_cell": "Table of Contents",
   "title_sidebar": "Contents",
   "toc_cell": false,
   "toc_position": {},
   "toc_section_display": true,
   "toc_window_display": false
  },
  "varInspector": {
   "cols": {
    "lenName": 16,
    "lenType": 16,
    "lenVar": 40
   },
   "kernels_config": {
    "python": {
     "delete_cmd_postfix": "",
     "delete_cmd_prefix": "del ",
     "library": "var_list.py",
     "varRefreshCmd": "print(var_dic_list())"
    },
    "r": {
     "delete_cmd_postfix": ") ",
     "delete_cmd_prefix": "rm(",
     "library": "var_list.r",
     "varRefreshCmd": "cat(var_dic_list()) "
    }
   },
   "types_to_exclude": [
    "module",
    "function",
    "builtin_function_or_method",
    "instance",
    "_Feature"
   ],
   "window_display": false
  }
 },
 "nbformat": 4,
 "nbformat_minor": 4
}
