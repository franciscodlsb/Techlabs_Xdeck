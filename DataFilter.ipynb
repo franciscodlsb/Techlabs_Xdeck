{
 "cells": [
  {
   "cell_type": "code",
   "execution_count": 1,
   "metadata": {
    "ExecuteTime": {
     "end_time": "2021-02-13T03:07:43.661504Z",
     "start_time": "2021-02-13T03:07:43.209600Z"
    }
   },
   "outputs": [],
   "source": [
    "import pandas as pd\n",
    "import numpy as np\n",
    "import datetime as dt\n",
    "from IPython.display import Image, HTML"
   ]
  },
  {
   "cell_type": "code",
   "execution_count": 2,
   "metadata": {
    "ExecuteTime": {
     "end_time": "2021-02-13T03:07:43.675425Z",
     "start_time": "2021-02-13T03:07:43.663457Z"
    }
   },
   "outputs": [],
   "source": [
    "# User variables for filtering\n",
    "years_ago = 3 #cutoff year from this year\n",
    "\n",
    "cities_EN = pd.read_csv('Cities_NRW_EN.csv', encoding='latin1', header = None).astype(str)[0].tolist()\n",
    "cities_DE = pd.read_csv('Cities_NRW_DE.csv', encoding='latin1', header = None).astype(str)[0].tolist()\n",
    "funding = 2000000 # maximum funding\n",
    "customers =  ['B2B2C', 'B2B-SaaS']\n",
    "#industries = \n",
    "stage = ['Seed Stage', 'Pre-Seed Stage']\n",
    "team_size = 15\n"
   ]
  },
  {
   "cell_type": "code",
   "execution_count": 209,
   "metadata": {
    "ExecuteTime": {
     "end_time": "2021-02-15T03:56:26.461827Z",
     "start_time": "2021-02-15T03:56:26.400495Z"
    }
   },
   "outputs": [],
   "source": [
    "# Load dataframe\n",
    "st =  pd.read_csv('combined_startups.csv')"
   ]
  },
  {
   "cell_type": "code",
   "execution_count": 210,
   "metadata": {
    "ExecuteTime": {
     "end_time": "2021-02-15T03:56:26.775936Z",
     "start_time": "2021-02-15T03:56:26.721463Z"
    },
    "scrolled": true
   },
   "outputs": [
    {
     "name": "stdout",
     "output_type": "stream",
     "text": [
      "N of missing founding years = 50\n",
      "N of missing Headquearters = 6\n",
      "N of missing Team Size = 1315\n",
      "N of missing founding years = 1051\n",
      "N of missing founding years = 1051\n"
     ]
    }
   ],
   "source": [
    "# Filtering\n",
    "# Year of Foundation \n",
    "cutoff_year = dt.date.today().year - years_ago\n",
    "missingY = str(st['Founding Year'].isna().sum())\n",
    "print('N of missing founding years = '+ missingY) # include nans\n",
    "st_f = st[(st['Founding Year'].isna()) | (st['Founding Year'] >= cutoff_year)]\n",
    "\n",
    "# Cities\n",
    "missingH = str(st['Headquarter'].isna().sum())\n",
    "print('N of missing Headquearters = '+ missingH) # include nans\n",
    "st_f = st_f[st_f.Headquarter.isin(cities_EN) | st_f.Headquarter.isin(cities_DE) | st_f['Headquarter'].isna()]\n",
    "\n",
    "# Team size\n",
    "# Obtain average from team size\n",
    "team_sizes = st_f['Team Size'].str.split(\"-\", n = 1, expand = True)\n",
    "team_sizes[0] = pd.to_numeric(team_sizes[0])\n",
    "team_sizes[1] = pd.to_numeric(team_sizes[1])\n",
    "team_sizes = (team_sizes[0] + team_sizes[1]) / 2\n",
    "# Filter bigger values\n",
    "missingH = str(st['Team Size'].isna().sum())\n",
    "print('N of missing Team Size = '+ missingH) # include nans\n",
    "st_f = st_f[(team_sizes <= 15) | (team_sizes.isna())]\n",
    "\n",
    "# Company Stage\n",
    "missingCS = str(st['Company Stage'].isna().sum())\n",
    "print('N of missing founding years = '+ missingCS) # include nans\n",
    "st_f = st_f[(st_f['Company Stage'].isna()) | (st_f['Company Stage'].isin(stage))]\n",
    "\n",
    "# Customer Focus\n",
    "missingCU = str(st['Customer Focus'].isna().sum())\n",
    "print('N of missing founding years = '+ missingCU) # include nans\n",
    "st_f = st_f[(st_f['Customer Focus'].isna()) | (st_f['Customer Focus'].isin(customers))]\n",
    "\n"
   ]
  },
  {
   "cell_type": "code",
   "execution_count": 211,
   "metadata": {
    "ExecuteTime": {
     "end_time": "2021-02-15T03:56:27.060729Z",
     "start_time": "2021-02-15T03:56:27.043874Z"
    }
   },
   "outputs": [],
   "source": [
    "# Sort rows of a dataframe in descending order of NaN counts and export\n",
    "st_f = st_f.reset_index()\n",
    "indexes = st_f.isna().sum(1).sort_values(ascending=True).index\n",
    "st_f = st_f.iloc[indexes.values]\n",
    "\n",
    "st_f.to_excel('filtered_startups.xlsx', index =False)"
   ]
  },
  {
   "cell_type": "code",
   "execution_count": 46,
   "metadata": {
    "ExecuteTime": {
     "end_time": "2021-02-15T00:46:35.045601Z",
     "start_time": "2021-02-15T00:46:35.009714Z"
    },
    "scrolled": false
   },
   "outputs": [],
   "source": [
    "# Display images from icons urls in pandas\n",
    "# def path_to_image_html(path):\n",
    "#     return '<img src=\"'+ path + '\" style=max-height:248px;\"/>' #'\" width=\"80\" >'\n",
    "\n",
    "# HTML(st_f.to_html(escape=False, formatters=dict(Logo=path_to_image_html)));"
   ]
  }
 ],
 "metadata": {
  "kernelspec": {
   "display_name": "Python 3",
   "language": "python",
   "name": "python3"
  },
  "language_info": {
   "codemirror_mode": {
    "name": "ipython",
    "version": 3
   },
   "file_extension": ".py",
   "mimetype": "text/x-python",
   "name": "python",
   "nbconvert_exporter": "python",
   "pygments_lexer": "ipython3",
   "version": "3.7.7"
  },
  "toc": {
   "base_numbering": 1,
   "nav_menu": {},
   "number_sections": true,
   "sideBar": true,
   "skip_h1_title": false,
   "title_cell": "Table of Contents",
   "title_sidebar": "Contents",
   "toc_cell": false,
   "toc_position": {},
   "toc_section_display": true,
   "toc_window_display": false
  },
  "varInspector": {
   "cols": {
    "lenName": 16,
    "lenType": 16,
    "lenVar": 40
   },
   "kernels_config": {
    "python": {
     "delete_cmd_postfix": "",
     "delete_cmd_prefix": "del ",
     "library": "var_list.py",
     "varRefreshCmd": "print(var_dic_list())"
    },
    "r": {
     "delete_cmd_postfix": ") ",
     "delete_cmd_prefix": "rm(",
     "library": "var_list.r",
     "varRefreshCmd": "cat(var_dic_list()) "
    }
   },
   "types_to_exclude": [
    "module",
    "function",
    "builtin_function_or_method",
    "instance",
    "_Feature"
   ],
   "window_display": false
  }
 },
 "nbformat": 4,
 "nbformat_minor": 4
}
