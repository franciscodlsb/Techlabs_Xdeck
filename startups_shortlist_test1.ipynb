{
 "cells": [
  {
   "cell_type": "code",
   "execution_count": 51,
   "metadata": {},
   "outputs": [],
   "source": [
    "#importing packages\n",
    "import pandas as pd\n",
    "import seaborn as sns\n",
    "import matplotlib.pyplot as plt\n",
    "import requests\n",
    "from datetime import datetime\n",
    "import csv\n",
    "from bs4 import BeautifulSoup"
   ]
  },
  {
   "cell_type": "code",
   "execution_count": 52,
   "metadata": {},
   "outputs": [],
   "source": [
    "headers = {\n",
    "    'Access-Control-Allow-Origin': '*',\n",
    "    'Access-Control-Allow-Methods': 'GET',\n",
    "    'Access-Control-Allow-Headers': 'Content-Type',\n",
    "    'Access-Control-Max-Age': '3600',\n",
    "    'User-Agent': 'Mozilla/5.0 (X11; Ubuntu; Linux x86_64; rv:52.0) Gecko/20100101 Firefox/52.0'\n",
    "    }"
   ]
  },
  {
   "cell_type": "code",
   "execution_count": 53,
   "metadata": {},
   "outputs": [],
   "source": [
    "url = 'https://www.startupdetector.de/neue-startups/'\n",
    "req = requests.get(url,headers)"
   ]
  },
  {
   "cell_type": "code",
   "execution_count": 80,
   "metadata": {},
   "outputs": [],
   "source": [
    "#fiinding post that fir criteria\n",
    "soup = BeautifulSoup(req.text, 'html.parser')\n",
    "cards =soup.find_all('div','pdb-list')"
   ]
  },
  {
   "cell_type": "code",
   "execution_count": 81,
   "metadata": {},
   "outputs": [
    {
     "data": {
      "text/plain": [
       "102"
      ]
     },
     "execution_count": 81,
     "metadata": {},
     "output_type": "execute_result"
    }
   ],
   "source": [
    "len(cards)"
   ]
  },
  {
   "cell_type": "code",
   "execution_count": 83,
   "metadata": {},
   "outputs": [
    {
     "ename": "AttributeError",
     "evalue": "ResultSet object has no attribute 'find_all'. You're probably treating a list of elements like a single element. Did you call find_all() when you meant to call find()?",
     "output_type": "error",
     "traceback": [
      "\u001b[1;31m---------------------------------------------------------------------------\u001b[0m",
      "\u001b[1;31mAttributeError\u001b[0m                            Traceback (most recent call last)",
      "\u001b[1;32m<ipython-input-83-d0d2830383bb>\u001b[0m in \u001b[0;36m<module>\u001b[1;34m\u001b[0m\n\u001b[0;32m      1\u001b[0m \u001b[1;31m#selecting info from each post\u001b[0m\u001b[1;33m\u001b[0m\u001b[1;33m\u001b[0m\u001b[1;33m\u001b[0m\u001b[0m\n\u001b[1;32m----> 2\u001b[1;33m \u001b[0mstarup_name\u001b[0m \u001b[1;33m=\u001b[0m \u001b[0mcards\u001b[0m\u001b[1;33m.\u001b[0m\u001b[0mfind_all\u001b[0m\u001b[1;33m(\u001b[0m\u001b[1;34m'span'\u001b[0m\u001b[1;33m,\u001b[0m\u001b[1;34m'pdb-field-data'\u001b[0m\u001b[1;33m)\u001b[0m\u001b[1;33m.\u001b[0m\u001b[0mtext\u001b[0m\u001b[1;33m(\u001b[0m\u001b[1;33m)\u001b[0m\u001b[1;33m\u001b[0m\u001b[1;33m\u001b[0m\u001b[0m\n\u001b[0m",
      "\u001b[1;32m~\\anaconda3\\lib\\site-packages\\bs4\\element.py\u001b[0m in \u001b[0;36m__getattr__\u001b[1;34m(self, key)\u001b[0m\n\u001b[0;32m   2158\u001b[0m     \u001b[1;32mdef\u001b[0m \u001b[0m__getattr__\u001b[0m\u001b[1;33m(\u001b[0m\u001b[0mself\u001b[0m\u001b[1;33m,\u001b[0m \u001b[0mkey\u001b[0m\u001b[1;33m)\u001b[0m\u001b[1;33m:\u001b[0m\u001b[1;33m\u001b[0m\u001b[1;33m\u001b[0m\u001b[0m\n\u001b[0;32m   2159\u001b[0m         \u001b[1;34m\"\"\"Raise a helpful exception to explain a common code fix.\"\"\"\u001b[0m\u001b[1;33m\u001b[0m\u001b[1;33m\u001b[0m\u001b[0m\n\u001b[1;32m-> 2160\u001b[1;33m         raise AttributeError(\n\u001b[0m\u001b[0;32m   2161\u001b[0m             \u001b[1;34m\"ResultSet object has no attribute '%s'. You're probably treating a list of elements like a single element. Did you call find_all() when you meant to call find()?\"\u001b[0m \u001b[1;33m%\u001b[0m \u001b[0mkey\u001b[0m\u001b[1;33m\u001b[0m\u001b[1;33m\u001b[0m\u001b[0m\n\u001b[0;32m   2162\u001b[0m         )\n",
      "\u001b[1;31mAttributeError\u001b[0m: ResultSet object has no attribute 'find_all'. You're probably treating a list of elements like a single element. Did you call find_all() when you meant to call find()?"
     ]
    }
   ],
   "source": [
    "#selecting info from each post\n",
    "starup_name = cards.find_all('span','pdb-field-data').text()\n"
   ]
  },
  {
   "cell_type": "code",
   "execution_count": 76,
   "metadata": {},
   "outputs": [
    {
     "ename": "AttributeError",
     "evalue": "'NoneType' object has no attribute 'a'",
     "output_type": "error",
     "traceback": [
      "\u001b[1;31m---------------------------------------------------------------------------\u001b[0m",
      "\u001b[1;31mAttributeError\u001b[0m                            Traceback (most recent call last)",
      "\u001b[1;32m<ipython-input-76-cd3ef1d710fb>\u001b[0m in \u001b[0;36m<module>\u001b[1;34m\u001b[0m\n\u001b[0;32m     18\u001b[0m \u001b[0mrecords\u001b[0m \u001b[1;33m=\u001b[0m\u001b[1;33m[\u001b[0m\u001b[1;33m]\u001b[0m\u001b[1;33m\u001b[0m\u001b[1;33m\u001b[0m\u001b[0m\n\u001b[0;32m     19\u001b[0m \u001b[1;32mfor\u001b[0m \u001b[0mcard\u001b[0m \u001b[1;32min\u001b[0m \u001b[0mcards\u001b[0m\u001b[1;33m:\u001b[0m\u001b[1;33m\u001b[0m\u001b[1;33m\u001b[0m\u001b[0m\n\u001b[1;32m---> 20\u001b[1;33m     \u001b[0mrecord\u001b[0m \u001b[1;33m=\u001b[0m\u001b[0mget_record\u001b[0m\u001b[1;33m(\u001b[0m\u001b[0mcard\u001b[0m\u001b[1;33m)\u001b[0m\u001b[1;33m\u001b[0m\u001b[1;33m\u001b[0m\u001b[0m\n\u001b[0m\u001b[0;32m     21\u001b[0m     \u001b[0mrecords\u001b[0m\u001b[1;33m.\u001b[0m\u001b[0mappend\u001b[0m\u001b[1;33m(\u001b[0m\u001b[0mrecord\u001b[0m\u001b[1;33m)\u001b[0m\u001b[1;33m\u001b[0m\u001b[1;33m\u001b[0m\u001b[0m\n",
      "\u001b[1;32m<ipython-input-76-cd3ef1d710fb>\u001b[0m in \u001b[0;36mget_record\u001b[1;34m(card)\u001b[0m\n\u001b[0;32m      1\u001b[0m \u001b[1;31m#extracting info into a card\u001b[0m\u001b[1;33m\u001b[0m\u001b[1;33m\u001b[0m\u001b[1;33m\u001b[0m\u001b[0m\n\u001b[0;32m      2\u001b[0m \u001b[1;32mdef\u001b[0m \u001b[0mget_record\u001b[0m\u001b[1;33m(\u001b[0m\u001b[0mcard\u001b[0m\u001b[1;33m)\u001b[0m\u001b[1;33m:\u001b[0m\u001b[1;33m\u001b[0m\u001b[1;33m\u001b[0m\u001b[0m\n\u001b[1;32m----> 3\u001b[1;33m     \u001b[0matag\u001b[0m \u001b[1;33m=\u001b[0m \u001b[0mcard\u001b[0m\u001b[1;33m.\u001b[0m\u001b[0mh2\u001b[0m\u001b[1;33m.\u001b[0m\u001b[0ma\u001b[0m\u001b[1;33m\u001b[0m\u001b[1;33m\u001b[0m\u001b[0m\n\u001b[0m\u001b[0;32m      4\u001b[0m     \u001b[0mjob_title\u001b[0m \u001b[1;33m=\u001b[0m \u001b[0matag\u001b[0m\u001b[1;33m.\u001b[0m\u001b[0mget\u001b[0m\u001b[1;33m(\u001b[0m\u001b[1;34m'title'\u001b[0m\u001b[1;33m)\u001b[0m\u001b[1;33m\u001b[0m\u001b[1;33m\u001b[0m\u001b[0m\n\u001b[0;32m      5\u001b[0m     \u001b[0mjob_url\u001b[0m \u001b[1;33m=\u001b[0m \u001b[1;34m'https://www.indeed.com/'\u001b[0m \u001b[1;33m+\u001b[0m \u001b[0matag\u001b[0m\u001b[1;33m.\u001b[0m\u001b[0mget\u001b[0m\u001b[1;33m(\u001b[0m\u001b[1;34m'href'\u001b[0m\u001b[1;33m)\u001b[0m\u001b[1;33m\u001b[0m\u001b[1;33m\u001b[0m\u001b[0m\n",
      "\u001b[1;31mAttributeError\u001b[0m: 'NoneType' object has no attribute 'a'"
     ]
    }
   ],
   "source": [
    "#extracting info into a card\n",
    "def get_record(card):\n",
    "    atag = card.h2.a\n",
    "    job_title = atag.get('title')\n",
    "    job_url = 'https://www.indeed.com/' + atag.get('href')\n",
    "    company = card.find('span', 'company').text.strip()\n",
    "    job_location = card.find('div', 'recJobLoc').get('data-rc-loc')\n",
    "    job_summary = card.find('div','summary').text.strip()\n",
    "    post_date = card.find('span', 'date').text\n",
    "    today = datetime.today().strftime('%Y-%m-%d')\n",
    "    try:\n",
    "        job_salary = card.find('span', 'salaryText').text.strip()\n",
    "    except AttributeError:\n",
    "        job_salary = ''\n",
    "    record = (job_title, job_location, post_date, today, job_summary, job_salary, job_url)\n",
    "    return record\n",
    "\n",
    "records =[]\n",
    "for card in cards:\n",
    "    record =get_record(card)\n",
    "    records.append(record)"
   ]
  },
  {
   "cell_type": "code",
   "execution_count": 57,
   "metadata": {},
   "outputs": [],
   "source": [
    "#searching in the different pages\n",
    "while True:\n",
    "    try:\n",
    "        url = 'https://www.indeed.com/' + soup.find('a',{'aria-label':'Next'}).get('href')\n",
    "    except AttributeError:\n",
    "        break\n",
    "    response = requests.get(url)\n",
    "    soup = BeautifulSoup(response.text, 'html.parser')\n",
    "    cards =soup.find_all('div', 'jobsearch-SerpJobCard')\n",
    "    for card in cards:\n",
    "        record =get_record(card)\n",
    "        records.append(record)"
   ]
  },
  {
   "cell_type": "code",
   "execution_count": 63,
   "metadata": {},
   "outputs": [],
   "source": [
    "#extracting everything \n",
    "import requests\n",
    "from datetime import datetime\n",
    "import csv\n",
    "from bs4 import BeautifulSoup\n",
    "\n",
    "\n",
    "def get_url(position,location):\n",
    "    template = 'https://www.indeed.com/jobs?q={}&l={}'\n",
    "    url = template.format(position,location)\n",
    "    return url\n",
    "\n",
    "def get_record(card):\n",
    "    atag = card.h2.a\n",
    "    job_title = atag.get('title')\n",
    "    job_url = 'https://www.indeed.com/' + atag.get('href')\n",
    "    company = card.find('span', 'company').text.strip()\n",
    "    job_location = card.find('div', 'recJobLoc').get('data-rc-loc')\n",
    "    job_summary = card.find('div','summary').text.strip()\n",
    "    post_date = card.find('span', 'date').text\n",
    "    today = datetime.today().strftime('%Y-%m-%d')\n",
    "    try:\n",
    "        job_salary = card.find('span', 'salaryText').text.strip()\n",
    "    except AttributeError:\n",
    "        job_salary = ''\n",
    "    record = (job_title, job_location, post_date, today, job_summary, job_salary, job_url)\n",
    "    return record\n",
    "\n",
    "def main(position,location):\n",
    "    records=[]\n",
    "    url=get_url(position, location)\n",
    "    \n",
    "    #extract job data\n",
    "    while True:\n",
    "        response = requests.get(url)\n",
    "        soup = BeautifulSoup(response.text, 'html.parser')\n",
    "        cards =soup.find_all('div', 'jobsearch-SerpJobCard')\n",
    "    \n",
    "        for card in cards:\n",
    "            record =get_record(card)\n",
    "            records.append(record) \n",
    "        try:\n",
    "            url = 'https://www.indeed.com/' + soup.find('a',{'aria-label':'Next'}).get('href')\n",
    "        except AttributeError:\n",
    "            break\n",
    "    \n",
    "    with open('bakers_florida.csv', 'w', newline='', encoding='utf-8') as f:\n",
    "        writer = csv.writer(f)\n",
    "        writer.writerow(['Job_title', 'Job_location', 'post_date', 'today_date', 'Job_summary', 'Job_salary', 'url'])\n",
    "        writer.writerows(records)\n",
    "    \n",
    "  "
   ]
  },
  {
   "cell_type": "code",
   "execution_count": 64,
   "metadata": {},
   "outputs": [],
   "source": [
    "main('baker','florida')"
   ]
  },
  {
   "cell_type": "code",
   "execution_count": 66,
   "metadata": {},
   "outputs": [
    {
     "data": {
      "text/html": [
       "<div>\n",
       "<style scoped>\n",
       "    .dataframe tbody tr th:only-of-type {\n",
       "        vertical-align: middle;\n",
       "    }\n",
       "\n",
       "    .dataframe tbody tr th {\n",
       "        vertical-align: top;\n",
       "    }\n",
       "\n",
       "    .dataframe thead th {\n",
       "        text-align: right;\n",
       "    }\n",
       "</style>\n",
       "<table border=\"1\" class=\"dataframe\">\n",
       "  <thead>\n",
       "    <tr style=\"text-align: right;\">\n",
       "      <th></th>\n",
       "      <th>Job_title</th>\n",
       "      <th>Job_location</th>\n",
       "      <th>post_date</th>\n",
       "      <th>today_date</th>\n",
       "      <th>Job_summary</th>\n",
       "      <th>Job_salary</th>\n",
       "      <th>url</th>\n",
       "    </tr>\n",
       "  </thead>\n",
       "  <tbody>\n",
       "    <tr>\n",
       "      <th>0</th>\n",
       "      <td>Baker</td>\n",
       "      <td>Orlando, FL</td>\n",
       "      <td>Today</td>\n",
       "      <td>2020-12-30</td>\n",
       "      <td>The Baker is responsible for overall product i...</td>\n",
       "      <td>NaN</td>\n",
       "      <td>https://www.indeed.com//rc/clk?jk=f8c022749ebf...</td>\n",
       "    </tr>\n",
       "    <tr>\n",
       "      <th>1</th>\n",
       "      <td>Baker</td>\n",
       "      <td>Bradenton, FL</td>\n",
       "      <td>2 days ago</td>\n",
       "      <td>2020-12-30</td>\n",
       "      <td>Texas Roadhouse is looking for a Baker who bel...</td>\n",
       "      <td>NaN</td>\n",
       "      <td>https://www.indeed.com//rc/clk?jk=f237147d60d7...</td>\n",
       "    </tr>\n",
       "    <tr>\n",
       "      <th>2</th>\n",
       "      <td>CAFE BAKER</td>\n",
       "      <td>Merritt Is, FL</td>\n",
       "      <td>30+ days ago</td>\n",
       "      <td>2020-12-30</td>\n",
       "      <td>Job Description School/Center: Edgewood Junior...</td>\n",
       "      <td>NaN</td>\n",
       "      <td>https://www.indeed.com//rc/clk?jk=56b67813c572...</td>\n",
       "    </tr>\n",
       "    <tr>\n",
       "      <th>3</th>\n",
       "      <td>Food Service Cook-Baker</td>\n",
       "      <td>Vero Beach, FL</td>\n",
       "      <td>28 days ago</td>\n",
       "      <td>2020-12-30</td>\n",
       "      <td>Knowledge of quantity cooking and ability to f...</td>\n",
       "      <td>$186 a day</td>\n",
       "      <td>https://www.indeed.com//rc/clk?jk=182a32180b16...</td>\n",
       "    </tr>\n",
       "    <tr>\n",
       "      <th>4</th>\n",
       "      <td>Part-Time Bakery Clerk Job</td>\n",
       "      <td>Homestead, FL</td>\n",
       "      <td>Today</td>\n",
       "      <td>2020-12-30</td>\n",
       "      <td>Packages, displays, rotates, and stores bakery...</td>\n",
       "      <td>NaN</td>\n",
       "      <td>https://www.indeed.com//rc/clk?jk=c5dd6a92708b...</td>\n",
       "    </tr>\n",
       "  </tbody>\n",
       "</table>\n",
       "</div>"
      ],
      "text/plain": [
       "                    Job_title    Job_location     post_date  today_date  \\\n",
       "0                       Baker     Orlando, FL         Today  2020-12-30   \n",
       "1                       Baker   Bradenton, FL    2 days ago  2020-12-30   \n",
       "2                  CAFE BAKER  Merritt Is, FL  30+ days ago  2020-12-30   \n",
       "3     Food Service Cook-Baker  Vero Beach, FL   28 days ago  2020-12-30   \n",
       "4  Part-Time Bakery Clerk Job   Homestead, FL         Today  2020-12-30   \n",
       "\n",
       "                                         Job_summary  Job_salary  \\\n",
       "0  The Baker is responsible for overall product i...         NaN   \n",
       "1  Texas Roadhouse is looking for a Baker who bel...         NaN   \n",
       "2  Job Description School/Center: Edgewood Junior...         NaN   \n",
       "3  Knowledge of quantity cooking and ability to f...  $186 a day   \n",
       "4  Packages, displays, rotates, and stores bakery...         NaN   \n",
       "\n",
       "                                                 url  \n",
       "0  https://www.indeed.com//rc/clk?jk=f8c022749ebf...  \n",
       "1  https://www.indeed.com//rc/clk?jk=f237147d60d7...  \n",
       "2  https://www.indeed.com//rc/clk?jk=56b67813c572...  \n",
       "3  https://www.indeed.com//rc/clk?jk=182a32180b16...  \n",
       "4  https://www.indeed.com//rc/clk?jk=c5dd6a92708b...  "
      ]
     },
     "execution_count": 66,
     "metadata": {},
     "output_type": "execute_result"
    }
   ],
   "source": [
    "bakers = pd.read_csv('bakers_florida.csv')\n",
    "bakers.head()"
   ]
  }
 ],
 "metadata": {
  "kernelspec": {
   "display_name": "Python 3",
   "language": "python",
   "name": "python3"
  },
  "language_info": {
   "codemirror_mode": {
    "name": "ipython",
    "version": 3
   },
   "file_extension": ".py",
   "mimetype": "text/x-python",
   "name": "python",
   "nbconvert_exporter": "python",
   "pygments_lexer": "ipython3",
   "version": "3.8.3"
  }
 },
 "nbformat": 4,
 "nbformat_minor": 4
}
