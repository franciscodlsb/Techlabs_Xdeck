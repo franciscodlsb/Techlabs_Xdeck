{
 "cells": [
  {
   "cell_type": "code",
   "execution_count": 1,
   "metadata": {
    "ExecuteTime": {
     "end_time": "2021-01-23T15:06:34.921569Z",
     "start_time": "2021-01-23T15:06:34.163344Z"
    }
   },
   "outputs": [],
   "source": [
    "import pandas as pd\n",
    "import requests\n",
    "import csv\n",
    "from bs4 import BeautifulSoup"
   ]
  },
  {
   "cell_type": "code",
   "execution_count": 2,
   "metadata": {
    "ExecuteTime": {
     "end_time": "2021-01-23T15:07:15.570813Z",
     "start_time": "2021-01-23T15:07:14.526819Z"
    }
   },
   "outputs": [],
   "source": [
    "# Get url\n",
    "url = 'https://www.startbase.com/organization/creditshelf/'\n",
    "\n",
    "response = requests.get(url)\n",
    "soup = BeautifulSoup(response.text, 'html.parser')"
   ]
  },
  {
   "cell_type": "code",
   "execution_count": 3,
   "metadata": {
    "ExecuteTime": {
     "end_time": "2021-01-23T15:07:23.061614Z",
     "start_time": "2021-01-23T15:07:23.050745Z"
    }
   },
   "outputs": [],
   "source": [
    "# Name, logo and teaser\n",
    "title_card = soup.find('div', 'flex-grow-1 mx-lg-4')\n",
    "startup_name = title_card.h1.get('data-name')\n",
    "logo = title_card.h1.get('data-icon')\n",
    "teaser = title_card.find('div', 'sb-teaser').text.strip()"
   ]
  },
  {
   "cell_type": "code",
   "execution_count": 4,
   "metadata": {
    "ExecuteTime": {
     "end_time": "2021-01-23T15:07:38.000173Z",
     "start_time": "2021-01-23T15:07:37.982149Z"
    }
   },
   "outputs": [],
   "source": [
    "# Body info\n",
    "body_card = soup.find('ul', 'unformated row justify-content-start mb-0')\n",
    "info_cards = body_card.find_all('li')\n",
    "startup_info = []; labels_info = []\n",
    "\n",
    "for count, info in enumerate(info_cards):\n",
    "    labels_info.append(info.text.strip().split(':')[0])\n",
    "    if count != 9: #10th item is links to social media\n",
    "        info_piece = info.text.strip()\n",
    "        # text cleaning\n",
    "        if '\\n ' in info_piece:\n",
    "            info_piece = info_piece.split('\\n ')[1]\n",
    "        else:\n",
    "            info_piece = info_piece.split(': ')[1]\n",
    "        \n",
    "        if info_piece[0] == ' ':\n",
    "            info_piece = info_piece[1::]   \n",
    "    else: #social media\n",
    "        media_links = []\n",
    "        for media in info.find_all('a'):\n",
    "            media_links.append(media.get('href'))\n",
    "        info_piece = media_links\n",
    "\n",
    "    startup_info.append(info_piece)"
   ]
  },
  {
   "cell_type": "code",
   "execution_count": 5,
   "metadata": {
    "ExecuteTime": {
     "end_time": "2021-01-23T15:07:47.404583Z",
     "start_time": "2021-01-23T15:07:47.379138Z"
    }
   },
   "outputs": [],
   "source": [
    "# About info\n",
    "about_company = soup.find('div', {'class':'sb-card mb-4'}, id='company').p.text\n",
    "\n",
    "# Team info\n",
    "member_cards =  soup.find('div', {'class':'sb-card mb-4'}, id='team')\n",
    "# Get names\n",
    "member_names = soup.find_all('span',{'class':'name'})\n",
    "names = [];\n",
    "for name in member_names:\n",
    "    names.append(name.text)\n",
    "# Get labels\n",
    "member_labels = soup.find_all('span',{'class':'label'})\n",
    "labels = [];\n",
    "for label in member_labels:\n",
    "    labels.append(label.text) \n",
    "    \n",
    "team_members = zip(names, labels)"
   ]
  },
  {
   "cell_type": "code",
   "execution_count": 6,
   "metadata": {
    "ExecuteTime": {
     "end_time": "2021-01-23T15:09:45.294395Z",
     "start_time": "2021-01-23T15:09:45.274674Z"
    }
   },
   "outputs": [
    {
     "name": "stdout",
     "output_type": "stream",
     "text": [
      "          Name                                               Logo  \\\n",
      "0  creditshelf  https://cdn.startbase.com/images/1a561f36f4828...   \n",
      "\n",
      "                                     Teaser               Sector  \\\n",
      "0  Creditshelf - we redesign SME financing!  Finance & Insurance   \n",
      "\n",
      "  Company Stage Business Model Customer Focus Founding Year        Team Size  \\\n",
      "0  Growth Stage          Other            B2B          2014  11-50 Employees   \n",
      "\n",
      "  Handelsregister    Headquarter Official Website  \\\n",
      "0           Found  Frankfurt, DE  creditshelf.com   \n",
      "\n",
      "                                     On Social Media    Legal Entity  \\\n",
      "0  [https://twitter.com/creditshelf, https://www....  creditshelf AG   \n",
      "\n",
      "                                               About  \\\n",
      "0  creditshelf ist der Finanzierungspartner für m...   \n",
      "\n",
      "                              Members  \n",
      "0  <zip object at 0x0000015040CB31C8>  \n"
     ]
    }
   ],
   "source": [
    "# Pool data in table\n",
    "info_data = [startup_name] + [logo] + [teaser] + startup_info + [about_company] + [team_members]\n",
    "info_labels = ['Name'] + ['Logo'] + ['Teaser'] + labels_info + ['About'] + ['Members']\n",
    "\n",
    "company_data = dict(zip(info_labels, info_data))\n",
    "\n",
    "startbase = pd.DataFrame([company_data])\n",
    "print(startbase)"
   ]
  },
  {
   "cell_type": "code",
   "execution_count": null,
   "metadata": {},
   "outputs": [],
   "source": []
  }
 ],
 "metadata": {
  "kernelspec": {
   "display_name": "Python 3",
   "language": "python",
   "name": "python3"
  },
  "language_info": {
   "codemirror_mode": {
    "name": "ipython",
    "version": 3
   },
   "file_extension": ".py",
   "mimetype": "text/x-python",
   "name": "python",
   "nbconvert_exporter": "python",
   "pygments_lexer": "ipython3",
   "version": "3.7.7"
  },
  "toc": {
   "base_numbering": 1,
   "nav_menu": {},
   "number_sections": true,
   "sideBar": true,
   "skip_h1_title": false,
   "title_cell": "Table of Contents",
   "title_sidebar": "Contents",
   "toc_cell": false,
   "toc_position": {},
   "toc_section_display": true,
   "toc_window_display": false
  },
  "varInspector": {
   "cols": {
    "lenName": 16,
    "lenType": 16,
    "lenVar": 40
   },
   "kernels_config": {
    "python": {
     "delete_cmd_postfix": "",
     "delete_cmd_prefix": "del ",
     "library": "var_list.py",
     "varRefreshCmd": "print(var_dic_list())"
    },
    "r": {
     "delete_cmd_postfix": ") ",
     "delete_cmd_prefix": "rm(",
     "library": "var_list.r",
     "varRefreshCmd": "cat(var_dic_list()) "
    }
   },
   "types_to_exclude": [
    "module",
    "function",
    "builtin_function_or_method",
    "instance",
    "_Feature"
   ],
   "window_display": false
  }
 },
 "nbformat": 4,
 "nbformat_minor": 4
}
