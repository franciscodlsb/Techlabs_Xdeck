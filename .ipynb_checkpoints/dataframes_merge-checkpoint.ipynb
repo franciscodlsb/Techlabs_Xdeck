{
 "cells": [
  {
   "cell_type": "code",
   "execution_count": 1,
   "metadata": {
    "ExecuteTime": {
     "end_time": "2021-01-31T18:45:24.704389Z",
     "start_time": "2021-01-31T18:45:22.011179Z"
    }
   },
   "outputs": [],
   "source": [
    "#importing packages\n",
    "import pandas as pd\n",
    "import seaborn as sns\n",
    "import matplotlib.pyplot as plt\n",
    "import numpy as np"
   ]
  },
  {
   "cell_type": "code",
   "execution_count": 2,
   "metadata": {
    "ExecuteTime": {
     "end_time": "2021-01-31T18:45:29.315700Z",
     "start_time": "2021-01-31T18:45:29.229909Z"
    }
   },
   "outputs": [],
   "source": [
    "startups = pd.read_csv('deutsche_startups.csv')\n",
    "startbase = pd.read_csv('Startbase/startbase.csv')\n"
   ]
  },
  {
   "cell_type": "code",
   "execution_count": 3,
   "metadata": {
    "ExecuteTime": {
     "end_time": "2021-01-31T18:49:12.036647Z",
     "start_time": "2021-01-31T18:49:12.024681Z"
    }
   },
   "outputs": [],
   "source": [
    "startbase = startbase.drop(columns= ['Logo', 'Teaser', 'Company Stage', 'Customer Focus', 'Team Size', 'Handelsregister', 'Business Model', 'Legal Entity', 'About'])"
   ]
  },
  {
   "cell_type": "code",
   "execution_count": 4,
   "metadata": {
    "ExecuteTime": {
     "end_time": "2021-01-31T18:49:13.010580Z",
     "start_time": "2021-01-31T18:49:12.985682Z"
    },
    "scrolled": true
   },
   "outputs": [
    {
     "data": {
      "text/html": [
       "<div>\n",
       "<style scoped>\n",
       "    .dataframe tbody tr th:only-of-type {\n",
       "        vertical-align: middle;\n",
       "    }\n",
       "\n",
       "    .dataframe tbody tr th {\n",
       "        vertical-align: top;\n",
       "    }\n",
       "\n",
       "    .dataframe thead th {\n",
       "        text-align: right;\n",
       "    }\n",
       "</style>\n",
       "<table border=\"1\" class=\"dataframe\">\n",
       "  <thead>\n",
       "    <tr style=\"text-align: right;\">\n",
       "      <th></th>\n",
       "      <th>Company_name</th>\n",
       "      <th>URL</th>\n",
       "      <th>company_head</th>\n",
       "      <th>founded_year</th>\n",
       "      <th>location</th>\n",
       "      <th>model</th>\n",
       "      <th>contact</th>\n",
       "    </tr>\n",
       "  </thead>\n",
       "  <tbody>\n",
       "    <tr>\n",
       "      <th>0</th>\n",
       "      <td>soap &amp; precede</td>\n",
       "      <td>heimathaufen.de</td>\n",
       "      <td>{'Oliver Schumacher': 'Co-Founder', 'Boris Sch...</td>\n",
       "      <td>2018.0</td>\n",
       "      <td>Hamburg, DE</td>\n",
       "      <td>Nutrition &amp; Consumables</td>\n",
       "      <td>['https://www.instagram.com/soapandprecede/', ...</td>\n",
       "    </tr>\n",
       "    <tr>\n",
       "      <th>1</th>\n",
       "      <td>creditshelf</td>\n",
       "      <td>creditshelf.com</td>\n",
       "      <td>{'Birgit Hass': ''}</td>\n",
       "      <td>2014.0</td>\n",
       "      <td>Frankfurt, DE</td>\n",
       "      <td>Finance &amp; Insurance</td>\n",
       "      <td>['https://twitter.com/creditshelf', 'https://w...</td>\n",
       "    </tr>\n",
       "    <tr>\n",
       "      <th>2</th>\n",
       "      <td>Swarm Logistics</td>\n",
       "      <td>swarmlogistics.net</td>\n",
       "      <td>{'Damir Dulovic': ''}</td>\n",
       "      <td>2018.0</td>\n",
       "      <td>Stuttgart, DE</td>\n",
       "      <td>Industrial &amp; Basic Materials</td>\n",
       "      <td>['https://twitter.com/swarmlogistics', 'https:...</td>\n",
       "    </tr>\n",
       "    <tr>\n",
       "      <th>3</th>\n",
       "      <td>Mädchenflohmarkt</td>\n",
       "      <td>maedchenflohmarkt.de</td>\n",
       "      <td>{'Peter Ambrozy': ''}</td>\n",
       "      <td>2012.0</td>\n",
       "      <td>Stuttgart, DE</td>\n",
       "      <td>Textiles</td>\n",
       "      <td>['https://www.instagram.com/maedchenflohmarkt/...</td>\n",
       "    </tr>\n",
       "    <tr>\n",
       "      <th>4</th>\n",
       "      <td>ViveLaCar</td>\n",
       "      <td>vivelacar.com</td>\n",
       "      <td>{'Florine von Caprivi': 'CRO', 'Mathias Albert...</td>\n",
       "      <td>2019.0</td>\n",
       "      <td>Stuttgart, DE</td>\n",
       "      <td>Automotive, Logistics &amp; Mobility</td>\n",
       "      <td>['https://www.instagram.com/vivelacar_autoabo/...</td>\n",
       "    </tr>\n",
       "  </tbody>\n",
       "</table>\n",
       "</div>"
      ],
      "text/plain": [
       "       Company_name                   URL  \\\n",
       "0    soap & precede       heimathaufen.de   \n",
       "1       creditshelf       creditshelf.com   \n",
       "2   Swarm Logistics    swarmlogistics.net   \n",
       "3  Mädchenflohmarkt  maedchenflohmarkt.de   \n",
       "4         ViveLaCar         vivelacar.com   \n",
       "\n",
       "                                        company_head  founded_year  \\\n",
       "0  {'Oliver Schumacher': 'Co-Founder', 'Boris Sch...        2018.0   \n",
       "1                                {'Birgit Hass': ''}        2014.0   \n",
       "2                              {'Damir Dulovic': ''}        2018.0   \n",
       "3                              {'Peter Ambrozy': ''}        2012.0   \n",
       "4  {'Florine von Caprivi': 'CRO', 'Mathias Albert...        2019.0   \n",
       "\n",
       "        location                             model  \\\n",
       "0    Hamburg, DE           Nutrition & Consumables   \n",
       "1  Frankfurt, DE               Finance & Insurance   \n",
       "2  Stuttgart, DE      Industrial & Basic Materials   \n",
       "3  Stuttgart, DE                          Textiles   \n",
       "4  Stuttgart, DE  Automotive, Logistics & Mobility   \n",
       "\n",
       "                                             contact  \n",
       "0  ['https://www.instagram.com/soapandprecede/', ...  \n",
       "1  ['https://twitter.com/creditshelf', 'https://w...  \n",
       "2  ['https://twitter.com/swarmlogistics', 'https:...  \n",
       "3  ['https://www.instagram.com/maedchenflohmarkt/...  \n",
       "4  ['https://www.instagram.com/vivelacar_autoabo/...  "
      ]
     },
     "execution_count": 4,
     "metadata": {},
     "output_type": "execute_result"
    }
   ],
   "source": [
    "#Changing startbase columns and adapting to startups\n",
    "startbase = startbase[['Name', 'Official Website', 'Members', 'Founding Year', 'Headquarter', 'Sector', 'On Social Media']]\n",
    "startbase.columns = ['Company_name', 'URL', 'company_head', 'founded_year', 'location', 'model', 'contact']\n",
    "startbase.head()"
   ]
  },
  {
   "cell_type": "code",
   "execution_count": 5,
   "metadata": {
    "ExecuteTime": {
     "end_time": "2021-01-31T18:49:16.110901Z",
     "start_time": "2021-01-31T18:49:16.103881Z"
    }
   },
   "outputs": [],
   "source": [
    "#Concatenating both df\n",
    "all_startups = pd.concat([startups,startbase])"
   ]
  },
  {
   "cell_type": "code",
   "execution_count": 6,
   "metadata": {
    "ExecuteTime": {
     "end_time": "2021-01-31T18:49:20.746189Z",
     "start_time": "2021-01-31T18:49:20.695113Z"
    }
   },
   "outputs": [],
   "source": [
    "#ID startups without location \n",
    "all_startups.describe()\n",
    "no_location = pd.isnull(all_startups['location'])\n",
    "x = np.where(no_location)[0] \n",
    "x = np.nan "
   ]
  },
  {
   "cell_type": "code",
   "execution_count": 8,
   "metadata": {
    "ExecuteTime": {
     "end_time": "2021-01-31T18:55:28.468880Z",
     "start_time": "2021-01-31T18:55:28.376961Z"
    }
   },
   "outputs": [],
   "source": [
    "clean_startups = all_startups.drop_duplicates(subset = 'Company_name')\n",
    "clean_startups.replace(['NaN','', ' ', '{}','[]'], None)\n",
    "clean_startups.describe()\n",
    "list_startups = clean_startups.to_csv('list_startups.csv', index =False)"
   ]
  },
  {
   "cell_type": "code",
   "execution_count": 9,
   "metadata": {
    "ExecuteTime": {
     "end_time": "2021-01-31T18:55:57.265753Z",
     "start_time": "2021-01-31T18:55:57.223823Z"
    }
   },
   "outputs": [],
   "source": [
    "startups = pd.read_csv('list_startups.csv')"
   ]
  },
  {
   "cell_type": "code",
   "execution_count": 10,
   "metadata": {
    "ExecuteTime": {
     "end_time": "2021-01-31T18:57:02.091570Z",
     "start_time": "2021-01-31T18:57:02.072621Z"
    }
   },
   "outputs": [],
   "source": [
    "locations = startups['location']\n",
    "location = [str(x) for x in locations]\n",
    "startups['location'] = location\n",
    "startups['location'] = startups['location'].str.replace(', DE', '')"
   ]
  },
  {
   "cell_type": "code",
   "execution_count": 11,
   "metadata": {
    "ExecuteTime": {
     "end_time": "2021-01-31T18:57:04.463328Z",
     "start_time": "2021-01-31T18:57:04.440388Z"
    }
   },
   "outputs": [],
   "source": [
    "year = startups['founded_year']\n",
    "year = year.replace(['2006 / 2001', '1996 / 2007', '2004 / 2008', '2001 / 2007', ], 'nan')\n",
    "year = year.replace('2005 (als Hitflip Media Trading GmbH)', '2005')\n",
    "year = year.replace(['2007 (Spin', '2006/2008'], '2007')\n",
    "digits = year.str.len()\n",
    "year.loc[digits < 4] =np.nan\n",
    "year = [float(x) for x in year]\n",
    "years = list(set(year))\n",
    "startups['founded_year'] = year"
   ]
  },
  {
   "cell_type": "code",
   "execution_count": 12,
   "metadata": {
    "ExecuteTime": {
     "end_time": "2021-01-31T18:57:06.250553Z",
     "start_time": "2021-01-31T18:57:06.233599Z"
    }
   },
   "outputs": [
    {
     "data": {
      "text/html": [
       "<div>\n",
       "<style scoped>\n",
       "    .dataframe tbody tr th:only-of-type {\n",
       "        vertical-align: middle;\n",
       "    }\n",
       "\n",
       "    .dataframe tbody tr th {\n",
       "        vertical-align: top;\n",
       "    }\n",
       "\n",
       "    .dataframe thead th {\n",
       "        text-align: right;\n",
       "    }\n",
       "</style>\n",
       "<table border=\"1\" class=\"dataframe\">\n",
       "  <thead>\n",
       "    <tr style=\"text-align: right;\">\n",
       "      <th></th>\n",
       "      <th>Company_name</th>\n",
       "      <th>URL</th>\n",
       "      <th>company_head</th>\n",
       "      <th>founded_year</th>\n",
       "      <th>location</th>\n",
       "      <th>model</th>\n",
       "      <th>contact</th>\n",
       "    </tr>\n",
       "  </thead>\n",
       "  <tbody>\n",
       "    <tr>\n",
       "      <th>0</th>\n",
       "      <td>1000Mikes AG</td>\n",
       "      <td>http://www.1000mikes.com/</td>\n",
       "      <td>Frank Felix Debatin, Peter Schweyer</td>\n",
       "      <td>2007.0</td>\n",
       "      <td>Hamburg</td>\n",
       "      <td>User generated Webradio</td>\n",
       "      <td>info@1000mikes.com</td>\n",
       "    </tr>\n",
       "    <tr>\n",
       "      <th>1</th>\n",
       "      <td>12designer</td>\n",
       "      <td>http://www.12designer.com</td>\n",
       "      <td>Lars Bamberg</td>\n",
       "      <td>2009.0</td>\n",
       "      <td>Berlin</td>\n",
       "      <td>Marktplatz für Kreatives</td>\n",
       "      <td>NaN</td>\n",
       "    </tr>\n",
       "    <tr>\n",
       "      <th>2</th>\n",
       "      <td>12like GmbH</td>\n",
       "      <td>http://www.12like.com</td>\n",
       "      <td>Kathrin Anselm, Dirk Wischnewski</td>\n",
       "      <td>2010.0</td>\n",
       "      <td>Berlin</td>\n",
       "      <td>Partnervermittlung</td>\n",
       "      <td>NaN</td>\n",
       "    </tr>\n",
       "    <tr>\n",
       "      <th>3</th>\n",
       "      <td>15Talents.com GmbH &amp; Co. KG</td>\n",
       "      <td>http://www.15talents.com/</td>\n",
       "      <td>Marc Dr?ner, Henrike Fr?chling</td>\n",
       "      <td>2008.0</td>\n",
       "      <td>Berlin</td>\n",
       "      <td>Projektmartktplatz für Unternehmen und Studenten</td>\n",
       "      <td>team@15talents.com</td>\n",
       "    </tr>\n",
       "    <tr>\n",
       "      <th>4</th>\n",
       "      <td>21Publish Web Services GmbH</td>\n",
       "      <td>http://www.yourteam.de/</td>\n",
       "      <td>Stefan Wiskemann</td>\n",
       "      <td>2007.0</td>\n",
       "      <td>Hamburg</td>\n",
       "      <td>Mannschafts-Community</td>\n",
       "      <td>NaN</td>\n",
       "    </tr>\n",
       "  </tbody>\n",
       "</table>\n",
       "</div>"
      ],
      "text/plain": [
       "                  Company_name                        URL  \\\n",
       "0                 1000Mikes AG  http://www.1000mikes.com/   \n",
       "1                   12designer  http://www.12designer.com   \n",
       "2                  12like GmbH      http://www.12like.com   \n",
       "3  15Talents.com GmbH & Co. KG  http://www.15talents.com/   \n",
       "4  21Publish Web Services GmbH    http://www.yourteam.de/   \n",
       "\n",
       "                          company_head  founded_year location  \\\n",
       "0  Frank Felix Debatin, Peter Schweyer        2007.0  Hamburg   \n",
       "1                         Lars Bamberg        2009.0   Berlin   \n",
       "2     Kathrin Anselm, Dirk Wischnewski        2010.0   Berlin   \n",
       "3       Marc Dr?ner, Henrike Fr?chling        2008.0   Berlin   \n",
       "4                     Stefan Wiskemann        2007.0  Hamburg   \n",
       "\n",
       "                                              model             contact  \n",
       "0                           User generated Webradio  info@1000mikes.com  \n",
       "1                          Marktplatz für Kreatives                 NaN  \n",
       "2                                Partnervermittlung                 NaN  \n",
       "3  Projektmartktplatz für Unternehmen und Studenten  team@15talents.com  \n",
       "4                             Mannschafts-Community                 NaN  "
      ]
     },
     "execution_count": 12,
     "metadata": {},
     "output_type": "execute_result"
    }
   ],
   "source": [
    "startups.head()"
   ]
  },
  {
   "cell_type": "code",
   "execution_count": null,
   "metadata": {},
   "outputs": [],
   "source": [
    "\n"
   ]
  }
 ],
 "metadata": {
  "kernelspec": {
   "display_name": "Python 3",
   "language": "python",
   "name": "python3"
  },
  "language_info": {
   "codemirror_mode": {
    "name": "ipython",
    "version": 3
   },
   "file_extension": ".py",
   "mimetype": "text/x-python",
   "name": "python",
   "nbconvert_exporter": "python",
   "pygments_lexer": "ipython3",
   "version": "3.7.7"
  },
  "toc": {
   "base_numbering": 1,
   "nav_menu": {},
   "number_sections": true,
   "sideBar": true,
   "skip_h1_title": false,
   "title_cell": "Table of Contents",
   "title_sidebar": "Contents",
   "toc_cell": false,
   "toc_position": {},
   "toc_section_display": true,
   "toc_window_display": false
  },
  "varInspector": {
   "cols": {
    "lenName": 16,
    "lenType": 16,
    "lenVar": 40
   },
   "kernels_config": {
    "python": {
     "delete_cmd_postfix": "",
     "delete_cmd_prefix": "del ",
     "library": "var_list.py",
     "varRefreshCmd": "print(var_dic_list())"
    },
    "r": {
     "delete_cmd_postfix": ") ",
     "delete_cmd_prefix": "rm(",
     "library": "var_list.r",
     "varRefreshCmd": "cat(var_dic_list()) "
    }
   },
   "types_to_exclude": [
    "module",
    "function",
    "builtin_function_or_method",
    "instance",
    "_Feature"
   ],
   "window_display": false
  }
 },
 "nbformat": 4,
 "nbformat_minor": 2
}
