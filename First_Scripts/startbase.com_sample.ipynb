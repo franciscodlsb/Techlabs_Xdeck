{
 "cells": [
  {
   "cell_type": "code",
   "execution_count": 58,
   "metadata": {
    "ExecuteTime": {
     "end_time": "2021-01-24T05:41:13.364884Z",
     "start_time": "2021-01-24T05:41:13.358865Z"
    }
   },
   "outputs": [],
   "source": [
    "import pandas as pd\n",
    "import requests\n",
    "import csv\n",
    "import time\n",
    "from bs4 import BeautifulSoup\n",
    "from selenium import webdriver"
   ]
  },
  {
   "cell_type": "code",
   "execution_count": 81,
   "metadata": {
    "ExecuteTime": {
     "end_time": "2021-01-24T06:03:30.830084Z",
     "start_time": "2021-01-24T06:03:19.440197Z"
    }
   },
   "outputs": [
    {
     "data": {
      "text/plain": [
       "50"
      ]
     },
     "execution_count": 81,
     "metadata": {},
     "output_type": "execute_result"
    }
   ],
   "source": [
    "# url = 'https://www.startbase.com/startups/?listOptions%5Bcompany-startup%5D=%7B%22version%22%3A1.3%2C%22sort%22%3A%22company.startbase_score%22%2C%22sortDirection%22%3A%22desc%22%2C%22display%22%3A%22small%22%2C%22itemsPerPage%22%3A200%2C%22page%22%3A1%2C%22userLocation%22%3Anull%2C%22filters%22%3A%7B%7D%7D'\n",
    "# #headers = {'User-Agent': 'Mozilla/5.0'}\n",
    "# #response = requests.get(url)#, headers=headers)\n",
    "# # import urllib.request\n",
    "# # with urllib.request.urlopen(url) as response:\n",
    "# #    html = response.read()\n",
    "\n",
    "# driver = webdriver.Firefox()\n",
    "# driver.get(url)\n",
    "# time.sleep(10)\n",
    "# element = driver.find_element_by_class_name('main-body')\n",
    "# html = element.get_attribute('innerHTML')\n",
    "\n",
    "# soup = BeautifulSoup(html, 'html.parser')\n",
    "# #driver.quit()\n",
    "\n",
    "\n",
    "# all_as = soup.find_all(\"a\")\n",
    "\n",
    "\n",
    "# links = []\n",
    "# for a in all_as:\n",
    "#     link = a.get(\"href\")\n",
    "#     if link is not None and link.startswith('/organization/'):\n",
    "#         links.append(link)  \n",
    "        \n",
    "# len(links)"
   ]
  },
  {
   "cell_type": "code",
   "execution_count": 3,
   "metadata": {
    "ExecuteTime": {
     "end_time": "2021-01-24T01:28:10.005233Z",
     "start_time": "2021-01-24T01:28:09.996262Z"
    }
   },
   "outputs": [
    {
     "ename": "NameError",
     "evalue": "name 'requests' is not defined",
     "output_type": "error",
     "traceback": [
      "\u001b[1;31m---------------------------------------------------------------------------\u001b[0m",
      "\u001b[1;31mNameError\u001b[0m                                 Traceback (most recent call last)",
      "\u001b[1;32m<ipython-input-3-6a391ced8b03>\u001b[0m in \u001b[0;36m<module>\u001b[1;34m()\u001b[0m\n\u001b[0;32m      3\u001b[0m \u001b[0murl\u001b[0m \u001b[1;33m=\u001b[0m \u001b[1;34m'https://www.startbase.com/organization/w-o-wohnrechner-online/'\u001b[0m\u001b[1;33m\u001b[0m\u001b[1;33m\u001b[0m\u001b[0m\n\u001b[0;32m      4\u001b[0m \u001b[1;33m\u001b[0m\u001b[0m\n\u001b[1;32m----> 5\u001b[1;33m \u001b[0mresponse\u001b[0m \u001b[1;33m=\u001b[0m \u001b[0mrequests\u001b[0m\u001b[1;33m.\u001b[0m\u001b[0mget\u001b[0m\u001b[1;33m(\u001b[0m\u001b[0murl\u001b[0m\u001b[1;33m)\u001b[0m\u001b[1;33m\u001b[0m\u001b[1;33m\u001b[0m\u001b[0m\n\u001b[0m\u001b[0;32m      6\u001b[0m \u001b[0msoup\u001b[0m \u001b[1;33m=\u001b[0m \u001b[0mBeautifulSoup\u001b[0m\u001b[1;33m(\u001b[0m\u001b[0mresponse\u001b[0m\u001b[1;33m.\u001b[0m\u001b[0mtext\u001b[0m\u001b[1;33m,\u001b[0m \u001b[1;34m'html.parser'\u001b[0m\u001b[1;33m)\u001b[0m\u001b[1;33m\u001b[0m\u001b[1;33m\u001b[0m\u001b[0m\n",
      "\u001b[1;31mNameError\u001b[0m: name 'requests' is not defined"
     ]
    }
   ],
   "source": [
    "# Get url\n",
    "url = 'https://www.startbase.com/organization/w-o-wohnrechner-online/'\n",
    "\n",
    "response = requests.get(url)\n",
    "soup = BeautifulSoup(response.text, 'html.parser')"
   ]
  },
  {
   "cell_type": "code",
   "execution_count": 23,
   "metadata": {
    "ExecuteTime": {
     "end_time": "2021-01-23T16:15:35.630231Z",
     "start_time": "2021-01-23T16:15:35.622544Z"
    }
   },
   "outputs": [],
   "source": [
    "# Name, logo and teaser\n",
    "title_card = soup.find('div', 'flex-grow-1 mx-lg-4')\n",
    "startup_name = title_card.h1.get('data-name')\n",
    "logo = title_card.h1.get('data-icon')\n",
    "teaser = title_card.find('div', 'sb-teaser').text.strip()"
   ]
  },
  {
   "cell_type": "code",
   "execution_count": 24,
   "metadata": {
    "ExecuteTime": {
     "end_time": "2021-01-23T16:15:36.475659Z",
     "start_time": "2021-01-23T16:15:36.461777Z"
    },
    "scrolled": true
   },
   "outputs": [],
   "source": [
    "# Body info\n",
    "body_card = soup.find('ul', 'unformated row justify-content-start mb-0')\n",
    "info_cards = body_card.find_all('li')\n",
    "startup_info = []; labels_info = []\n",
    "\n",
    "for count, info in enumerate(info_cards):\n",
    "    labels_info.append(info.text.strip().split(':')[0])\n",
    "    try:\n",
    "        if count != 9: #10th item is links to social media\n",
    "            info_piece = info.text.strip()\n",
    "            # text cleaning\n",
    "        #         if type(info_piece) == str: # When empty\n",
    "        #             info_piece = ''\n",
    "            if '\\n ' in info_piece:\n",
    "                info_piece = info_piece.split('\\n ')[1]\n",
    "            else:\n",
    "                info_piece = info_piece.split(': ')[1]\n",
    "\n",
    "            if info_piece[0] == ' ':\n",
    "                info_piece = info_piece[1::]   \n",
    "        else: #social media\n",
    "            media_links = []\n",
    "            for media in info.find_all('a'):\n",
    "                media_links.append(media.get('href'))\n",
    "            info_piece = media_links\n",
    "    except:\n",
    "        info_piece = ''\n",
    "\n",
    "    startup_info.append(info_piece)"
   ]
  },
  {
   "cell_type": "code",
   "execution_count": 29,
   "metadata": {
    "ExecuteTime": {
     "end_time": "2021-01-23T16:20:20.324496Z",
     "start_time": "2021-01-23T16:20:20.306142Z"
    }
   },
   "outputs": [],
   "source": [
    "# About info\n",
    "try:\n",
    "    about_company = soup.find('div', {'class':'sb-card mb-4'}, id='company').p.text\n",
    "except:\n",
    "    about_company = ''\n",
    "\n",
    "# Team info\n",
    "try:\n",
    "    # Get names\n",
    "    member_names = soup.find_all('span',{'class':'name'})\n",
    "    names = [];\n",
    "    for name in member_names:\n",
    "        names.append(name.text)\n",
    "    # Get labels\n",
    "    member_labels = soup.find_all('span',{'class':'label'})\n",
    "    labels = [];\n",
    "    for label in member_labels:\n",
    "        labels.append(label.text) \n",
    "\n",
    "    team_members = dict(zip(names, labels))\n",
    "except:\n",
    "    team_members = '';"
   ]
  },
  {
   "cell_type": "code",
   "execution_count": 21,
   "metadata": {
    "ExecuteTime": {
     "end_time": "2021-01-23T16:11:17.854279Z",
     "start_time": "2021-01-23T16:11:17.819373Z"
    }
   },
   "outputs": [
    {
     "data": {
      "text/html": [
       "<div>\n",
       "<style scoped>\n",
       "    .dataframe tbody tr th:only-of-type {\n",
       "        vertical-align: middle;\n",
       "    }\n",
       "\n",
       "    .dataframe tbody tr th {\n",
       "        vertical-align: top;\n",
       "    }\n",
       "\n",
       "    .dataframe thead th {\n",
       "        text-align: right;\n",
       "    }\n",
       "</style>\n",
       "<table border=\"1\" class=\"dataframe\">\n",
       "  <thead>\n",
       "    <tr style=\"text-align: right;\">\n",
       "      <th></th>\n",
       "      <th>Name</th>\n",
       "      <th>Logo</th>\n",
       "      <th>Teaser</th>\n",
       "      <th>Sector</th>\n",
       "      <th>Company Stage</th>\n",
       "      <th>Business Model</th>\n",
       "      <th>Customer Focus</th>\n",
       "      <th>Founding Year</th>\n",
       "      <th>Team Size</th>\n",
       "      <th>Handelsregister</th>\n",
       "      <th>Headquarter</th>\n",
       "      <th>Official Website</th>\n",
       "      <th>On Social Media</th>\n",
       "      <th>Legal Entity</th>\n",
       "      <th>About</th>\n",
       "      <th>Members</th>\n",
       "    </tr>\n",
       "  </thead>\n",
       "  <tbody>\n",
       "    <tr>\n",
       "      <th>0</th>\n",
       "      <td>Noor Medical</td>\n",
       "      <td>https://cdn.startbase.com/images/company/noor-...</td>\n",
       "      <td>Provider of safe sterilization of medical inst...</td>\n",
       "      <td>Life Science &amp; Healthcare</td>\n",
       "      <td>Seed Stage</td>\n",
       "      <td>Manufacturing</td>\n",
       "      <td>B2B</td>\n",
       "      <td>2017</td>\n",
       "      <td>1-10 Employees</td>\n",
       "      <td>Found</td>\n",
       "      <td>Freiburg im Breisgau, DE</td>\n",
       "      <td></td>\n",
       "      <td>[https://www.instagram.com/noormedical/, https...</td>\n",
       "      <td>Noor Medical UG</td>\n",
       "      <td>Über 1,5 Milliarden Menschen werden regelmäßig...</td>\n",
       "      <td>&lt;zip object at 0x0000015040E63E88&gt;</td>\n",
       "    </tr>\n",
       "  </tbody>\n",
       "</table>\n",
       "</div>"
      ],
      "text/plain": [
       "           Name                                               Logo  \\\n",
       "0  Noor Medical  https://cdn.startbase.com/images/company/noor-...   \n",
       "\n",
       "                                              Teaser  \\\n",
       "0  Provider of safe sterilization of medical inst...   \n",
       "\n",
       "                      Sector Company Stage Business Model Customer Focus  \\\n",
       "0  Life Science & Healthcare    Seed Stage  Manufacturing            B2B   \n",
       "\n",
       "  Founding Year       Team Size Handelsregister               Headquarter  \\\n",
       "0          2017  1-10 Employees           Found  Freiburg im Breisgau, DE   \n",
       "\n",
       "  Official Website                                    On Social Media  \\\n",
       "0                   [https://www.instagram.com/noormedical/, https...   \n",
       "\n",
       "      Legal Entity                                              About  \\\n",
       "0  Noor Medical UG  Über 1,5 Milliarden Menschen werden regelmäßig...   \n",
       "\n",
       "                              Members  \n",
       "0  <zip object at 0x0000015040E63E88>  "
      ]
     },
     "execution_count": 21,
     "metadata": {},
     "output_type": "execute_result"
    }
   ],
   "source": [
    "# Pool data in table\n",
    "info_data = [startup_name] + [logo] + [teaser] + startup_info + [about_company] + [team_members]\n",
    "info_labels = ['Name'] + ['Logo'] + ['Teaser'] + labels_info + ['About'] + ['Members']\n",
    "\n",
    "company_data = dict(zip(info_labels, info_data))\n",
    "\n",
    "startbase = pd.DataFrame([company_data])\n",
    "startbase.head()"
   ]
  },
  {
   "cell_type": "code",
   "execution_count": null,
   "metadata": {},
   "outputs": [],
   "source": []
  }
 ],
 "metadata": {
  "kernelspec": {
   "display_name": "Python 3",
   "language": "python",
   "name": "python3"
  },
  "language_info": {
   "codemirror_mode": {
    "name": "ipython",
    "version": 3
   },
   "file_extension": ".py",
   "mimetype": "text/x-python",
   "name": "python",
   "nbconvert_exporter": "python",
   "pygments_lexer": "ipython3",
   "version": "3.7.7"
  },
  "toc": {
   "base_numbering": 1,
   "nav_menu": {},
   "number_sections": true,
   "sideBar": true,
   "skip_h1_title": false,
   "title_cell": "Table of Contents",
   "title_sidebar": "Contents",
   "toc_cell": false,
   "toc_position": {},
   "toc_section_display": true,
   "toc_window_display": false
  },
  "varInspector": {
   "cols": {
    "lenName": 16,
    "lenType": 16,
    "lenVar": 40
   },
   "kernels_config": {
    "python": {
     "delete_cmd_postfix": "",
     "delete_cmd_prefix": "del ",
     "library": "var_list.py",
     "varRefreshCmd": "print(var_dic_list())"
    },
    "r": {
     "delete_cmd_postfix": ") ",
     "delete_cmd_prefix": "rm(",
     "library": "var_list.r",
     "varRefreshCmd": "cat(var_dic_list()) "
    }
   },
   "types_to_exclude": [
    "module",
    "function",
    "builtin_function_or_method",
    "instance",
    "_Feature"
   ],
   "window_display": false
  }
 },
 "nbformat": 4,
 "nbformat_minor": 4
}
