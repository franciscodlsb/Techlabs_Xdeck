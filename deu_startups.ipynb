{
 "cells": [
  {
   "cell_type": "code",
   "execution_count": 11,
   "metadata": {},
   "outputs": [],
   "source": [
    "#importing packages\r\n",
    "import pandas as pd\r\n",
    "import seaborn as sns\r\n",
    "import matplotlib.pyplot as plt\r\n",
    "import requests\r\n",
    "from datetime import datetime\r\n",
    "import csv\r\n",
    "from bs4 import BeautifulSoup\r\n",
    "from urllib.request import Request, urlopen"
   ]
  },
  {
   "cell_type": "code",
   "execution_count": 12,
   "metadata": {},
   "outputs": [],
   "source": [
    "#extracting urls from web page\r\n",
    "req = Request('https://www.deutsche-startups.de/verzeichnisse/startups-a-z/')\r\n",
    "html_page = urlopen(req)\r\n",
    "#Generating soup\r\n",
    "soup = BeautifulSoup(html_page, \"lxml\")\r\n",
    "#extracting links from page\r\n",
    "links = []\r\n",
    "for link in soup.findAll('a'):\r\n",
    "    links.append(link.get('href'))"
   ]
  },
  {
   "cell_type": "code",
   "execution_count": 13,
   "metadata": {},
   "outputs": [
    {
     "data": {
      "text/plain": "1082"
     },
     "execution_count": 13,
     "metadata": {},
     "output_type": "execute_result"
    }
   ],
   "source": [
    "#filtering the urls that correspond to startups\r\n",
    "#getting rid of werbung and other links\r\n",
    "clean_links = links[130:1212]\r\n",
    "len(clean_links)"
   ]
  },
  {
   "cell_type": "code",
   "execution_count": 14,
   "metadata": {},
   "outputs": [],
   "source": [
    "#Extracting main info from a startup webpage\r\n",
    "url1 = clean_links[0]\r\n",
    "res1 = requests.get(url1)\r\n",
    "soup = BeautifulSoup(res1.text, 'html.parser')\r\n",
    "#getting rid of the <span>\r\n",
    "for match in soup.findAll('span'):\r\n",
    "    match.unwrap()\r\n",
    "cards =soup.find_all('div', {'id': 'contentMain'})\r\n"
   ]
  },
  {
   "cell_type": "code",
   "execution_count": null,
   "metadata": {},
   "outputs": [],
   "source": [
    "# generating card from a URL\r\n",
    "def get_info(card):\r\n",
    "    card = cards[0]\r\n",
    "    ultag = card.div.ul\r\n",
    "    atag = card.div.a\r\n",
    "    company_name = ultag.find('li', 'company').getText().split(':')[1]\r\n",
    "    company_url = atag.get('href')\r\n",
    "    company_head = ultag.find('li', 'head').getText().split(':')[1]\r\n",
    "    founded_year = ultag.find('li', 'founded').getText().split(':')[1]\r\n",
    "    location = ultag.find('li', 'location').getText().split(':')[1]\r\n",
    "    model = ultag.find('li', 'businessmodel').getText().split(':')[1]\r\n",
    "    contact = ultag.find('li', 'contact').getText().split(':')[1].replace(' (at) ', '@').replace(' (punkt) ', '.')\r\n",
    "    info = (company_name, company_url, company_head, founded_year, location, model, contact)\r\n",
    "    return info\r\n",
    "    \r\n",
    "\r\n",
    "\r\n"
   ]
  },
  {
   "cell_type": "code",
   "execution_count": 20,
   "metadata": {},
   "outputs": [],
   "source": [
    "#generating cards from all urls\r\n",
    "def get_info_new(url):\r\n",
    "    res1 = requests.get(url)\r\n",
    "    soup = BeautifulSoup(res1.text, 'html.parser')\r\n",
    "    for match in soup.findAll('span'):\r\n",
    "        match.unwrap()\r\n",
    "    cards =soup.find_all('div', {'id': 'contentMain'})\r\n",
    "    card = cards[0]\r\n",
    "    ultag = card.div.ul\r\n",
    "    atag = card.div.a\r\n",
    "    company_name = ultag.find('li', 'company').getText().split(':')[1]\r\n",
    "    try:\r\n",
    "        company_url = atag.get('href')\r\n",
    "    except AttributeError:\r\n",
    "        company_url = ''\r\n",
    "    try:\r\n",
    "        company_head = ultag.find('li', 'head').getText().split(':')[1]\r\n",
    "    except AttributeError:\r\n",
    "            company_head = ''\r\n",
    "    try:\r\n",
    "        founded_year = ultag.find('li', 'founded').getText().split(':')[1]\r\n",
    "    except AttributeError:\r\n",
    "        founded_year =''\r\n",
    "    try:\r\n",
    "        location = ultag.find('li', 'location').getText().split(':')[1]\r\n",
    "    except AttributeError:\r\n",
    "        location = ''\r\n",
    "    try:\r\n",
    "        model = ultag.find('li', 'businessmodel').getText().split(':')[1]\r\n",
    "    except AttributeError:\r\n",
    "        model = ''\r\n",
    "    try:\r\n",
    "        contact = ultag.find('li', 'contact').getText().split(':')[1].replace(' (at) ', '@').replace(' (punkt) ', '.')\r\n",
    "    except AttributeError:\r\n",
    "        contact = ''\r\n",
    "    \r\n",
    "    info = (company_name, company_url, company_head, founded_year, location, model, contact)\r\n",
    "    return info"
   ]
  },
  {
   "cell_type": "code",
   "execution_count": 21,
   "metadata": {},
   "outputs": [],
   "source": [
    "# appending into new list\r\n",
    "infos = []\r\n",
    "for link in clean_links:\r\n",
    "    infos.append(get_info_new(link))"
   ]
  },
  {
   "cell_type": "code",
   "execution_count": 25,
   "metadata": {},
   "outputs": [],
   "source": [
    "#Generating CSV file from data\r\n",
    "with open('deutsche_startups.csv', 'w', newline='', encoding='utf-8') as f:\r\n",
    "        writer = csv.writer(f)\r\n",
    "        writer.writerow(['Company_name', 'URL', 'company_head', 'founded_year', 'location', 'model', 'contact'])\r\n",
    "        writer.writerows(infos)"
   ]
  },
  {
   "cell_type": "code",
   "execution_count": 26,
   "metadata": {},
   "outputs": [
    {
     "data": {
      "text/html": "<div>\n<style scoped>\n    .dataframe tbody tr th:only-of-type {\n        vertical-align: middle;\n    }\n\n    .dataframe tbody tr th {\n        vertical-align: top;\n    }\n\n    .dataframe thead th {\n        text-align: right;\n    }\n</style>\n<table border=\"1\" class=\"dataframe\">\n  <thead>\n    <tr style=\"text-align: right;\">\n      <th></th>\n      <th>Company_name</th>\n      <th>URL</th>\n      <th>company_head</th>\n      <th>founded_year</th>\n      <th>location</th>\n      <th>model</th>\n      <th>contact</th>\n    </tr>\n  </thead>\n  <tbody>\n    <tr>\n      <th>0</th>\n      <td>1000Mikes AG</td>\n      <td>http://www.1000mikes.com/</td>\n      <td>Frank Felix Debatin, Peter Schweyer</td>\n      <td>2007</td>\n      <td>Hamburg</td>\n      <td>User generated Webradio</td>\n      <td>info@1000mikes.com</td>\n    </tr>\n    <tr>\n      <th>1</th>\n      <td>12designer</td>\n      <td>http://www.12designer.com</td>\n      <td>Lars Bamberg</td>\n      <td>2009</td>\n      <td>Berlin</td>\n      <td>Marktplatz für Kreatives</td>\n      <td>NaN</td>\n    </tr>\n    <tr>\n      <th>2</th>\n      <td>12like GmbH</td>\n      <td>http://www.12like.com</td>\n      <td>Kathrin Anselm, Dirk Wischnewski</td>\n      <td>2010</td>\n      <td>Berlin</td>\n      <td>Partnervermittlung</td>\n      <td>NaN</td>\n    </tr>\n    <tr>\n      <th>3</th>\n      <td>15Talents.com GmbH &amp; Co. KG</td>\n      <td>http://www.15talents.com/</td>\n      <td>Marc Dr?ner, Henrike Fr?chling</td>\n      <td>2008</td>\n      <td>Berlin</td>\n      <td>Projektmartktplatz für Unternehmen und Studenten</td>\n      <td>team@15talents.com</td>\n    </tr>\n    <tr>\n      <th>4</th>\n      <td>21Publish Web Services GmbH</td>\n      <td>http://www.yourteam.de/</td>\n      <td>Stefan Wiskemann</td>\n      <td>2007</td>\n      <td>Hamburg</td>\n      <td>Mannschafts-Community</td>\n      <td>NaN</td>\n    </tr>\n  </tbody>\n</table>\n</div>",
      "text/plain": "                  Company_name                        URL  \\\n0                 1000Mikes AG  http://www.1000mikes.com/   \n1                   12designer  http://www.12designer.com   \n2                  12like GmbH      http://www.12like.com   \n3  15Talents.com GmbH & Co. KG  http://www.15talents.com/   \n4  21Publish Web Services GmbH    http://www.yourteam.de/   \n\n                          company_head founded_year location  \\\n0  Frank Felix Debatin, Peter Schweyer         2007  Hamburg   \n1                         Lars Bamberg         2009   Berlin   \n2     Kathrin Anselm, Dirk Wischnewski         2010   Berlin   \n3       Marc Dr?ner, Henrike Fr?chling         2008   Berlin   \n4                     Stefan Wiskemann         2007  Hamburg   \n\n                                              model             contact  \n0                           User generated Webradio  info@1000mikes.com  \n1                          Marktplatz für Kreatives                 NaN  \n2                                Partnervermittlung                 NaN  \n3  Projektmartktplatz für Unternehmen und Studenten  team@15talents.com  \n4                             Mannschafts-Community                 NaN  "
     },
     "execution_count": 26,
     "metadata": {},
     "output_type": "execute_result"
    }
   ],
   "source": [
    "startups = pd.read_csv('deutsche_startups.csv')\r\n",
    "startups.head()"
   ]
  }
 ],
 "metadata": {
  "kernelspec": {
   "display_name": "Python 3",
   "language": "python",
   "name": "python3"
  },
  "language_info": {
   "codemirror_mode": {
    "name": "ipython",
    "version": 3
   },
   "file_extension": ".py",
   "mimetype": "text/x-python",
   "name": "python",
   "nbconvert_exporter": "python",
   "pygments_lexer": "ipython3",
   "version": "3.7.3-final"
  },
  "orig_nbformat": 2
 },
 "nbformat": 4,
 "nbformat_minor": 2
}